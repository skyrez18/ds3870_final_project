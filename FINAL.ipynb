{
 "cells": [
  {
   "cell_type": "markdown",
   "metadata": {},
   "source": [
    "# Used Car Sale Auction Prices\n",
    "By Sky Reznik, John Lackey and Kevin Abatto\n",
    "2025-04-22"
   ]
  },
  {
   "cell_type": "markdown",
   "metadata": {},
   "source": [
    "Import packages"
   ]
  },
  {
   "cell_type": "code",
   "execution_count": null,
   "metadata": {
    "ExecuteTime": {
     "end_time": "2025-04-26T15:04:25.424986Z",
     "start_time": "2025-04-26T15:04:25.415466Z"
    }
   },
   "outputs": [],
   "source": [
    "import pandas as pd; # type: ignore\n",
    "import numpy as np; # type: ignore\n",
    "import seaborn as sns; # type: ignore\n",
    "import matplotlib.pyplot as plt; # type: ignore\n",
    "from holoviews.operation import histogram;\n",
    "from sklearn.preprocessing import OneHotEncoder; # type: ignore\n",
    "from sklearn.model_selection import train_test_split;\n",
    "from sklearn.linear_model import LinearRegression;\n",
    "from sklearn.metrics import mean_squared_error, r2_score;\n",
    "import os;"
   ]
  },
  {
   "cell_type": "markdown",
   "metadata": {},
   "source": [
    "|Import data"
   ]
  },
  {
   "cell_type": "code",
   "execution_count": null,
   "metadata": {
    "ExecuteTime": {
     "end_time": "2025-04-26T15:04:17.217105Z",
     "start_time": "2025-04-26T15:04:16.686695Z"
    }
   },
   "outputs": [],
   "source": [
    "# Load CSV into a pandas dataframe\n",
    "shared_file_path = './kaggle_datasets/car_prices.csv'\n",
    "# line 408,163 - \"Model\" field contains a comma (SE PZEV w/Connectivity, Navigation) - specify quotechar='\"'\n",
    "# This tells Pandas to treat anything inside double quotes as a single field, even if it contains commas.\n",
    "#      solution provided by ChatGPT\n",
    "df = pd.read_csv(shared_file_path, quotechar='\"', on_bad_lines='skip')"
   ]
  },
  {
   "cell_type": "markdown",
   "metadata": {},
   "source": [
    "Now we need at append the MSRP of these cars. By using a data set that had make, model, year, transmission, etc. we can match the values and add in the MSRP.\n",
    "\n",
    "We have excluded trim and chosen the lowest price match to avoid over saturating the data with multiple trim levels at different prices of the same vehicle."
   ]
  },
  {
   "cell_type": "code",
   "execution_count": null,
   "metadata": {
    "ExecuteTime": {
     "end_time": "2025-04-26T15:03:24.391040Z",
     "start_time": "2025-04-26T15:03:22.790769Z"
    }
   },
   "outputs": [],
   "source": [
    "# Load datasets\n",
    "msrp = pd.read_csv('MSRP.csv')\n",
    "\n",
    "# Standardize column names and values\n",
    "msrp.rename(columns={\n",
    "    'Make': 'make',\n",
    "    \"Model\": \"model\",\n",
    "    \"Year\": \"year\",\n",
    "    \"Transmission Type\": \"transmission\"\n",
    "}, inplace=True)\n",
    "\n",
    "msrp['transmission'] = msrp['transmission'].str.lower()\n",
    "\n",
    "# Create matching keys\n",
    "df['match_key'] = (\n",
    "    df['year'].astype(str).str.lower() + '_' + \n",
    "    df['make'].str.lower() + '_' + \n",
    "    df['model'].str.lower() + '_' + \n",
    "    df['transmission'].str.lower()\n",
    ")\n",
    "\n",
    "msrp['match_key'] = (\n",
    "    msrp['year'].astype(str).str.lower() + '_' + \n",
    "    msrp['make'].str.lower() + '_' + \n",
    "    msrp['model'].str.lower() + '_' + \n",
    "    msrp['transmission'].str.lower()\n",
    ")\n",
    "\n",
    "# Sort by MSRP (ascending) and keep first (min) for each match_key\n",
    "msrp_min_row = msrp.sort_values('MSRP').drop_duplicates('match_key', keep='first')\n",
    "\n",
    "# Merge with original car data (keeping all car rows but adding MSRP where matched)\n",
    "car_with_msrp = df.merge(\n",
    "    msrp_min_row[['match_key', 'MSRP']],  # Only keep needed columns\n",
    "    on='match_key',\n",
    "    how='left'\n",
    ")\n",
    "\n",
    "# Drop the temporary key column\n",
    "car_with_msrp = car_with_msrp.drop(columns=['match_key'])\n",
    "\n",
    "# Save the merged DataFrame to a new CSV file\n",
    "car_with_msrp.to_csv('car_prices_with_msrp.csv', index=False)"
   ]
  },
  {
   "cell_type": "markdown",
   "metadata": {},
   "source": [
    "# Data Cleaning\n",
    "\n",
    "1) Remove any row with missing data with df.dropna()\n",
    "2) One-Hot encode ['transmission'] to ['automatic_trans'] 0 /1 (double check unique vals)\n",
    "3) Simplify ['body'] (collapse all 85 body types to 9 types)\n",
    "4) Convert ['saledate']\n",
    "5) Age of car (from ['saledate'])\n",
    "6) Drop negative age cars\n",
    "7) Drop unessecary or redundant columns\n",
    "8) Make 'condition' numeric\n",
    "9) Avoid outlier by using the 95th percentile"
   ]
  },
  {
   "cell_type": "code",
   "execution_count": null,
   "metadata": {
    "ExecuteTime": {
     "end_time": "2025-04-26T15:03:26.239119Z",
     "start_time": "2025-04-26T15:03:25.529737Z"
    }
   },
   "outputs": [],
   "source": [
    "# now we can use the car_prices_with_msrp DataFrame\n",
    "df = pd.read_csv('car_prices_with_msrp.csv', low_memory=False)\n",
    "# Remove 'Unamed: 16' column\n",
    "df.drop('Unnamed: 16', axis=1, inplace=True)\n",
    "df['odometer'] = np.where(df['odometer'] == 999999.0, np.nan, df['odometer'])"
   ]
  },
  {
   "cell_type": "markdown",
   "metadata": {},
   "source": [
    "1 - Remove rows that have missing values\n"
   ]
  },
  {
   "cell_type": "code",
   "execution_count": null,
   "metadata": {
    "ExecuteTime": {
     "end_time": "2025-04-26T15:03:27.183047Z",
     "start_time": "2025-04-26T15:03:27.079301Z"
    }
   },
   "outputs": [],
   "source": [
    "df.dropna(inplace=True)"
   ]
  },
  {
   "cell_type": "markdown",
   "metadata": {},
   "source": [
    "2 - One-hot encode the 'transmission' column\n"
   ]
  },
  {
   "cell_type": "code",
   "execution_count": null,
   "metadata": {
    "ExecuteTime": {
     "end_time": "2025-04-26T15:03:27.965131Z",
     "start_time": "2025-04-26T15:03:27.950652Z"
    }
   },
   "outputs": [],
   "source": [
    "print(df['transmission'].unique())\n",
    "df['auto_transmission'] = np.where(df['transmission'].str.contains('automatic', case=False), 1, 0)"
   ]
  },
  {
   "cell_type": "markdown",
   "metadata": {},
   "source": [
    "3 - 'One-hot encode' the 'body' column (count 85 unique values --> reduce to 8)\n"
   ]
  },
  {
   "cell_type": "code",
   "execution_count": null,
   "metadata": {
    "ExecuteTime": {
     "end_time": "2025-04-26T15:03:29.279164Z",
     "start_time": "2025-04-26T15:03:29.165243Z"
    }
   },
   "outputs": [],
   "source": [
    "# ['suv' 'sedan' 'convertible' 'coupe' 'wagon' 'hatchback' 'truck' 'minivan' 'van']\n",
    "df['body_type'] = np.nan\n",
    "df['body_type'] = np.where(df['body'].str.contains('minivan', case=False), 'minivan', df['body_type'])\n",
    "df['body_type'] = np.where(df['body'].str.contains('sedan', case=False), 'sedan', df['body'])\n",
    "df['body_type'] = np.where(df['body'].str.contains('wagon', case=False), 'wagon', df['body_type'])\n",
    "df['body_type'] = np.where(df['body'].str.contains('coupe', case=False), 'coupe', df['body_type'])\n",
    "df['body_type'] = np.where(df['body'].str.contains('koup', case=False), 'coupe', df['body_type'])\n",
    "df['body_type'] = np.where(df['body'].str.contains('convertible', case=False), 'convertible', df['body_type'])\n",
    "df['body_type'] = np.where(df['body'].str.contains('hatchback', case=False), 'hatchback', df['body_type'])\n",
    "df['body_type'] = np.where(df['body'].str.contains(r'\\bvan\\b', case=False), 'van', df['body_type'])\n",
    "df['body_type'] = np.where(df['body'].str.contains('truck', case=False), 'truck', df['body_type'])\n",
    "df['body_type'] = np.where(df['body'].str.contains('cab', case=False), 'truck', df['body_type'])\n",
    "df['body_type'] = np.where(df['body'].str.contains('crew', case=False), 'truck', df['body_type'])\n",
    "df['body_type'] = np.where(df['body'].str.contains('suv', case=False), 'suv', df['body_type'])\n",
    "df['body_type'] = np.where(df['body'].str.contains('Minivan', case=False), 'minivan', df['body_type'])\n",
    "\n",
    "# Numerical mapping for body types\n",
    "size_mapping = {\n",
    "    'convertible': 0,\n",
    "    'coupe': 1,\n",
    "    'hatchback': 2,\n",
    "    'sedan': 3,\n",
    "    'wagon': 4,\n",
    "    'suv': 5,\n",
    "    'minivan': 6,\n",
    "    'truck': 7,\n",
    "    'van': 8\n",
    "}\n",
    "\n",
    "df['body_size'] = df['body_type'].map(size_mapping)"
   ]
  },
  {
   "cell_type": "markdown",
   "metadata": {},
   "source": [
    "4 - Converting 'saledate' to datetime (solution provided by ChatGPT)"
   ]
  },
  {
   "cell_type": "code",
   "execution_count": null,
   "metadata": {
    "ExecuteTime": {
     "end_time": "2025-04-26T15:03:30.308685Z",
     "start_time": "2025-04-26T15:03:30.265372Z"
    }
   },
   "outputs": [],
   "source": [
    "# Handle invalid or unexpected values in the 'saledate' column\n",
    "# Extract just the date part (e.g., \"Dec 16 2014\") before conversion\n",
    "df['saledate'] = pd.to_datetime(\n",
    "    df['saledate'].str.extract(r'(\\w{3} \\d{2} \\d{4})')[0], \n",
    "    format='%b %d %Y', \n",
    "    errors='coerce'\n",
    ")"
   ]
  },
  {
   "cell_type": "markdown",
   "metadata": {},
   "source": [
    "5 - Create a new column 'car_age'"
   ]
  },
  {
   "cell_type": "code",
   "execution_count": null,
   "metadata": {
    "ExecuteTime": {
     "end_time": "2025-04-26T15:03:31.171824Z",
     "start_time": "2025-04-26T15:03:31.166924Z"
    }
   },
   "outputs": [],
   "source": [
    "df['car_age'] = np.where(df['saledate'].notna(), df['saledate'].dt.year - df['year'], np.nan)"
   ]
  },
  {
   "cell_type": "markdown",
   "metadata": {},
   "source": [
    "6 - Some car ages are negative (which is not possible) because a 2015 model year can exist in 2014 and subsequently be sold"
   ]
  },
  {
   "cell_type": "code",
   "execution_count": null,
   "metadata": {
    "ExecuteTime": {
     "end_time": "2025-04-26T15:03:32.087544Z",
     "start_time": "2025-04-26T15:03:32.075899Z"
    }
   },
   "outputs": [],
   "source": [
    "# For rows with values less than 0, drop rows\n",
    "print(\"Number of negative car ages dropped: \", df[df['car_age'] < 0].shape[0])\n",
    "df.drop(df[df['car_age'] < 0].index, inplace=True)\n",
    "# Drop old columns 'transmission' & 'body'\n",
    "df.drop(['transmission', 'body'], axis=1, inplace=True)"
   ]
  },
  {
   "cell_type": "markdown",
   "metadata": {},
   "source": [
    "7 - Drop unessecary or redundant columns"
   ]
  },
  {
   "cell_type": "code",
   "execution_count": null,
   "metadata": {
    "ExecuteTime": {
     "end_time": "2025-04-26T15:03:32.954536Z",
     "start_time": "2025-04-26T15:03:32.947880Z"
    }
   },
   "outputs": [],
   "source": [
    "df.drop(['year', 'trim', 'vin', 'color', 'interior', 'saledate', 'body_type'], axis=1, inplace=True)"
   ]
  },
  {
   "cell_type": "markdown",
   "metadata": {},
   "source": [
    "8 - Make 'condition' numeric"
   ]
  },
  {
   "cell_type": "code",
   "execution_count": null,
   "metadata": {},
   "outputs": [],
   "source": [
    "df['condition'] = pd.to_numeric(df['condition'], errors='coerce')"
   ]
  },
  {
   "cell_type": "markdown",
   "metadata": {},
   "source": [
    "9 - Use only th 95th percentile of the data to avoid outliers"
   ]
  },
  {
   "cell_type": "code",
   "execution_count": null,
   "metadata": {
    "ExecuteTime": {
     "end_time": "2025-04-26T15:03:43.164549Z",
     "start_time": "2025-04-26T15:03:43.157192Z"
    }
   },
   "outputs": [],
   "source": [
    "sns.histplot(data=df, x='sellingprice')\n",
    "threshold = df['sellingprice'].quantile(0.95)\n",
    "df = df[df['sellingprice'] <= threshold]\n",
    "sns.histplot(data=df, x='sellingprice')"
   ]
  },
  {
   "cell_type": "markdown",
   "metadata": {},
   "source": [
    "10 - Creating 'sold_above_mmr'\n",
    "\n",
    "MMR is provided in the dataset... it is the \"Mannheim Market Report\", an estimation of a car's selling value, which is updated nightly, and trained on millions of auction transactions. For our auction data, we can assume it is a sellers goal to surpass the MMR in the auction.\n",
    "\n",
    "Therefore, a relevant one-hot-encoding would be if the `sellingprice` > `mmr`. While it is good practice to not have redundant columns; ones which can be inferred from the data, a binary column `sold_above_mmr` would be highly useful for #TODO geographical visualizations and determining which sellers or states outpreform their estimated MMR.\n",
    "\n",
    "We will create this variable below:"
   ]
  },
  {
   "cell_type": "code",
   "execution_count": null,
   "metadata": {},
   "outputs": [],
   "source": [
    "# ensure mmr and sellingprice are numeric\n",
    "df['mmr'] = pd.to_numeric(df['mmr'], errors='coerce')\n",
    "df['sellingprice'] = pd.to_numeric(df['sellingprice'], errors='coerce')\n",
    "df['sold_above_mmr'] = np.where(df['sellingprice'] > df['mmr'], 1, 0 )\n",
    "df[['sellingprice', 'mmr', 'sold_above_mmr']].sample(4)"
   ]
  },
  {
   "cell_type": "code",
   "execution_count": null,
   "metadata": {},
   "outputs": [],
   "source": [
    "# Save clean data to CSV\n",
    "df.to_csv('cleaned_car_prices.csv', index=False)"
   ]
  },
  {
   "cell_type": "code",
   "execution_count": null,
   "metadata": {},
   "outputs": [],
   "source": [
    "# Re-load the cleaned data\n",
    "df = pd.read_csv('cleaned_car_prices.csv', low_memory=False)"
   ]
  },
  {
   "cell_type": "markdown",
   "metadata": {},
   "source": [
    "# Exploratory Data Analysis"
   ]
  },
  {
   "cell_type": "markdown",
   "metadata": {},
   "source": [
    "First, let's learn more about our data now that is has been cleaned!"
   ]
  },
  {
   "cell_type": "code",
   "execution_count": null,
   "metadata": {},
   "outputs": [],
   "source": [
    "print(df.columns.unique())"
   ]
  },
  {
   "cell_type": "markdown",
   "metadata": {},
   "source": [
    "#### DataFrame Features Overview\n",
    "\n",
    "##### 1. make\n",
    "- **Description**: The manufacturer/brand of the vehicle\n",
    "- **Type**: Categorical (e.g., Toyota, Ford, Honda)\n",
    "- **Potential Use**: Grouping vehicles by brand for analysis\n",
    "\n",
    "##### 2. model\n",
    "- **Description**: The specific model name of the vehicle\n",
    "- **Type**: Categorical (e.g., Camry, F-150, Escape)\n",
    "- **Potential Use**: Detailed vehicle identification when combined with make\n",
    "\n",
    "##### 3. state\n",
    "- **Description**: The geographical state where the vehicle is located/registered\n",
    "- **Type**: Categorical (e.g., CA, TX, NY)\n",
    "- **Potential Use**: Regional price analysis or demand patterns\n",
    "\n",
    "##### 4. condition\n",
    "- **Description**: The physical/mechanical condition of the vehicle\n",
    "- **Type**: Numerical (0-5)\n",
    "- **Potential Use**: Key factor in pricing models\n",
    "\n",
    "##### 5. odometer\n",
    "- **Description**: The mileage reading showing how many miles the vehicle has traveled\n",
    "- **Type**: Numerical (continuous)\n",
    "- **Potential Use**: Strong predictor of vehicle value and wear\n",
    "\n",
    "##### 6. seller\n",
    "- **Description**: The party selling the vehicle \n",
    "- **Type**: Categorical\n",
    "- **Potential Use**: Analyzing price differences between seller types\n",
    "\n",
    "##### 7. mmr (Manheim Market Report)\n",
    "- **Description**: Wholesale market valuation of the vehicle caluculated and updated every 24 hours\n",
    "- **Type**: Numerical (currency USD)\n",
    "- **Potential Use**: Benchmark for comparing selling prices\n",
    "\n",
    "##### 8. sellingprice\n",
    "- **Description**: The actual auction sale price of the vehicle\n",
    "- **Type**: Numerical (currency USD)\n",
    "- **Potential Use**: Target variable for price prediction models\n",
    "\n",
    "##### 9. MSRP (Manufacturer's Suggested Retail Price)\n",
    "- **Description**: The original new vehicle price recommended by manufacturer\n",
    "- **Type**: Numerical (currency USD)\n",
    "- **Potential Use**: Baseline for depreciation calculations\n",
    "\n",
    "##### 10. auto_transmission\n",
    "- **Description**: Whether the vehicle has automatic transmission\n",
    "- **Type**: Boolean (0/1)\n",
    "- **Potential Use**: Analyzing price differences between transmission types\n",
    "\n",
    "##### 11. body_size\n",
    "- **Description**: The size classification of the vehicle\n",
    "- **Type**: Ordinal numerical (1=smallest to 8=largest)\n",
    "- **Potential Use**: Market segment analysis\n",
    "\n",
    "##### 12. car_age\n",
    "- **Description**: The age of the vehicle in years\n",
    "- **Type**: Numerical (discrete)\n",
    "- **Potential Use**: Key factor in depreciation models\n",
    "\n",
    "##### 13. sold_above_mmr\n",
    "- **Description**: The age of the vehicle in years\n",
    "- **Type**: Boolean (1/0)\n",
    "- **Potential Use**: Determining shortcomings of MMR model"
   ]
  },
  {
   "cell_type": "markdown",
   "metadata": {},
   "source": [
    "Here is a look at the format of the dataframe and what a line look like:"
   ]
  },
  {
   "cell_type": "code",
   "execution_count": null,
   "metadata": {},
   "outputs": [],
   "source": [
    "print(df.sample(1))"
   ]
  },
  {
   "cell_type": "markdown",
   "metadata": {},
   "source": [
    "#### Boxplots\n",
    "First, lets look at some bloxplots of our numerical features to understand the spread of our data."
   ]
  },
  {
   "cell_type": "code",
   "execution_count": null,
   "metadata": {},
   "outputs": [],
   "source": [
    "sns.set(style=\"whitegrid\")\n",
    "\n",
    "# Select numerical columns\n",
    "numerical_cols = ['odometer', 'condition', 'mmr', 'sellingprice', 'MSRP', 'car_age', 'body_size']\n",
    "\n",
    "# Create subplots\n",
    "plt.figure(figsize=(12, 8))\n",
    "for i, col in enumerate(numerical_cols, 1):\n",
    "    plt.subplot(3, 3, i)  \n",
    "    sns.boxplot(y=df[col], color='skyblue')\n",
    "    plt.title(f'Boxplot of {col}')\n",
    "    plt.ylabel('')\n",
    "\n",
    "plt.tight_layout()  # Prevent overlapping\n",
    "plt.show()"
   ]
  },
  {
   "cell_type": "code",
   "execution_count": null,
   "metadata": {},
   "outputs": [],
   "source": [
    "\n",
    "plt.figure(figsize = (12, 12))\n",
    "sns.heatmap(\n",
    "    df[numerical_cols].corr(),\n",
    "    annot = True,\n",
    "    fmt = '.2f',\n",
    "    cmap = 'coolwarm_r',\n",
    "    vmin = -1, \n",
    "    vmax = 1\n",
    ");"
   ]
  },
  {
   "cell_type": "markdown",
   "metadata": {},
   "source": [
    "For fun, let's do some visualizations"
   ]
  },
  {
   "cell_type": "code",
   "execution_count": 17,
   "metadata": {},
   "outputs": [
    {
     "name": "stdout",
     "output_type": "stream",
     "text": [
      "GeoPandas version: 1.0.1\n"
     ]
    },
    {
     "data": {
      "image/png": "[encoded data removed]",
      "text/plain": [
       "<Figure size 4500x3000 with 2 Axes>"
      ]
     },
     "metadata": {},
     "output_type": "display_data"
    }
   ],
   "source": [
    "import geopandas as gpd\n",
    "import pandas as pd\n",
    "import matplotlib.pyplot as plt\n",
    "#https://geopandas.org/en/stable/docs/user_guide/mapping.html\n",
    "\n",
    "# Verify the installation by printing the version\n",
    "print(f\"GeoPandas version: {gpd.__version__}\")\n",
    "\n",
    "gdf = gpd.read_file('tl_2024_us_state/tl_2024_us_state.shp') #read file from US census\n",
    "gdf = gdf.to_crs(\"EPSG:4326\")\n",
    "\n",
    "df2 = pd.read_csv('cleaned_car_prices.csv')\n",
    "\n",
    "sales_counts = df2['state'].value_counts().reset_index()\n",
    "sales_counts.rename(columns={'state':'STUSPS'}, inplace=True) # rename for merge\n",
    "sales_counts['STUSPS'] = sales_counts['STUSPS'].str.upper() # uppercase for merge\n",
    "\n",
    "merged_df = gdf.merge(sales_counts, how='left', on='STUSPS')\n",
    "\n",
    "non_continental = ['HI','VI','MP','GU','AK','AS','PR']\n",
    "us49 = merged_df\n",
    "for n in non_continental:\n",
    "    us49 = us49[us49.STUSPS != n]\n",
    "\n",
    "# format and convert NaN's to zeroes\n",
    "us49.rename(columns={'count':'NUM_SALES'}, inplace=True)\n",
    "us49.fillna(0, inplace=True)\n",
    "\n",
    "from mpl_toolkits.axes_grid1 import make_axes_locatable\n",
    "from matplotlib.pyplot import colormaps\n",
    "\n",
    "# Source for function https://medium.com/@jl_ruiz/plot-maps-from-the-us-census-bureau-using-geopandas-and-contextily-in-python-df787647ef77\n",
    "def StatesPlot(df,data, cmap):\n",
    "    f,ax = plt.subplots(1,1, figsize=(15,10),\n",
    "    sharex=True, sharey=True, dpi=300)\n",
    "    f.tight_layout()\n",
    "    plt.title('Car sales per state')\n",
    "    ax.set_axis_off()\n",
    "    divider = make_axes_locatable(ax)\n",
    "    cax = divider.append_axes(\"right\", size=\"4%\",\n",
    "    pad=0.1,alpha=0.01)\n",
    "    df.plot(data, ax=ax, alpha=0.5, cmap=cmap,\n",
    "    edgecolor='none', legend=True, cax=cax, linewidth=0.3)\n",
    "    plt.ylabel('Sales', fontsize=12)\n",
    "    plt.show()\n",
    "\n",
    "StatesPlot(us49, 'NUM_SALES', cmap='YlOrRd')"
   ]
  },
  {
   "cell_type": "raw",
   "metadata": {},
   "source": [
    "We cam see that a majority of sales are California, Texas, and Florida. While it isn't relevant to other questions, we can guess that maybe this is due to limitations of the dataset, and simply state populations"
   ]
  },
  {
   "cell_type": "code",
   "execution_count": 59,
   "metadata": {},
   "outputs": [
    {
     "data": {
      "application/vnd.plotly.v1+json": {
       "config": {
        "plotlyServerURL": "https://plot.ly"
       },
       "data": [
        {
         "branchvalues": "total",
         "customdata": [
          [
           "Japan"
          ],
          [
           "Japan"
          ],
          [
           "USA"
          ],
          [
           "Japan"
          ],
          [
           "UK"
          ],
          [
           "Sweden"
          ],
          [
           "Germany"
          ],
          [
           "USA"
          ],
          [
           "Japan"
          ],
          [
           "Japan"
          ],
          [
           "Italy"
          ],
          [
           "USA"
          ],
          [
           "Japan"
          ],
          [
           "Japan"
          ],
          [
           "Japan"
          ],
          [
           "USA"
          ],
          [
           "Italy"
          ],
          [
           "USA"
          ],
          [
           "USA"
          ],
          [
           "USA"
          ],
          [
           "Germany"
          ],
          [
           "Japan"
          ],
          [
           "Sweden"
          ],
          [
           "USA"
          ],
          [
           "USA"
          ],
          [
           "South Korea"
          ],
          [
           "USA"
          ],
          [
           "South Korea"
          ],
          [
           "USA"
          ],
          [
           "USA"
          ],
          [
           "Germany"
          ],
          [
           "Germany"
          ],
          [
           "Germany"
          ],
          [
           "Japan"
          ],
          [
           "Japan"
          ],
          [
           "Germany"
          ],
          [
           "Italy"
          ],
          [
           "Japan"
          ],
          [
           "South Korea"
          ],
          [
           "Sweden"
          ],
          [
           "UK"
          ],
          [
           "USA"
          ]
         ],
         "domain": {
          "x": [
           0,
           1
          ],
          "y": [
           0,
           1
          ]
         },
         "hovertemplate": "labels=%{label}<br>count=%{value}<br>parent=%{parent}<br>id=%{id}<br>country=%{customdata[0]}<extra></extra>",
         "ids": [
          "Japan/Suzuki",
          "Japan/Subaru",
          "USA/Pontiac",
          "Japan/Nissan",
          "UK/Land Rover",
          "Sweden/Volvo",
          "Germany/Volkswagen",
          "USA/Oldsmobile",
          "Japan/Mitsubishi",
          "Japan/Mazda",
          "Italy/Maserati",
          "USA/Lincoln",
          "Japan/Infiniti",
          "Japan/Acura",
          "Japan/Honda",
          "USA/Chrysler",
          "Italy/FIAT",
          "USA/GMC",
          "USA/Cadillac",
          "USA/Ford",
          "Germany/Mercedes-Benz",
          "Japan/Scion",
          "Sweden/Saab",
          "USA/HUMMER",
          "USA/Dodge",
          "South Korea/Kia",
          "USA/Chevrolet",
          "South Korea/Hyundai",
          "USA/Plymouth",
          "USA/Buick",
          "Germany/Porsche",
          "Germany/BMW",
          "Germany/Audi",
          "Japan/Toyota",
          "Japan/Lexus",
          "Germany",
          "Italy",
          "Japan",
          "South Korea",
          "Sweden",
          "UK",
          "USA"
         ],
         "labels": [
          "Suzuki",
          "Subaru",
          "Pontiac",
          "Nissan",
          "Land Rover",
          "Volvo",
          "Volkswagen",
          "Oldsmobile",
          "Mitsubishi",
          "Mazda",
          "Maserati",
          "Lincoln",
          "Infiniti",
          "Acura",
          "Honda",
          "Chrysler",
          "FIAT",
          "GMC",
          "Cadillac",
          "Ford",
          "Mercedes-Benz",
          "Scion",
          "Saab",
          "HUMMER",
          "Dodge",
          "Kia",
          "Chevrolet",
          "Hyundai",
          "Plymouth",
          "Buick",
          "Porsche",
          "BMW",
          "Audi",
          "Toyota",
          "Lexus",
          "Germany",
          "Italy",
          "Japan",
          "South Korea",
          "Sweden",
          "UK",
          "USA"
         ],
         "marker": {
          "colors": [
           "#636efa",
           "#636efa",
           "#EF553B",
           "#636efa",
           "#00cc96",
           "#ab63fa",
           "#FFA15A",
           "#EF553B",
           "#636efa",
           "#636efa",
           "#19d3f3",
           "#EF553B",
           "#636efa",
           "#636efa",
           "#636efa",
           "#EF553B",
           "#19d3f3",
           "#EF553B",
           "#EF553B",
           "#EF553B",
           "#FFA15A",
           "#636efa",
           "#ab63fa",
           "#EF553B",
           "#EF553B",
           "#FF6692",
           "#EF553B",
           "#FF6692",
           "#EF553B",
           "#EF553B",
           "#FFA15A",
           "#FFA15A",
           "#FFA15A",
           "#636efa",
           "#636efa",
           "#FFA15A",
           "#19d3f3",
           "#636efa",
           "#FF6692",
           "#ab63fa",
           "#00cc96",
           "#EF553B"
          ]
         },
         "name": "",
         "parents": [
          "Japan",
          "Japan",
          "USA",
          "Japan",
          "UK",
          "Sweden",
          "Germany",
          "USA",
          "Japan",
          "Japan",
          "Italy",
          "USA",
          "Japan",
          "Japan",
          "Japan",
          "USA",
          "Italy",
          "USA",
          "USA",
          "USA",
          "Germany",
          "Japan",
          "Sweden",
          "USA",
          "USA",
          "South Korea",
          "USA",
          "South Korea",
          "USA",
          "USA",
          "Germany",
          "Germany",
          "Germany",
          "Japan",
          "Japan",
          "",
          "",
          "",
          "",
          "",
          "",
          ""
         ],
         "type": "treemap",
         "values": [
          611,
          611,
          1916,
          1294,
          91,
          560,
          652,
          213,
          556,
          911,
          1,
          656,
          11529,
          1114,
          622,
          4006,
          2,
          1085,
          648,
          3653,
          501,
          296,
          52,
          105,
          5570,
          3978,
          5249,
          1283,
          9,
          778,
          11,
          155,
          41,
          762,
          2125,
          1360,
          3,
          20431,
          5261,
          612,
          91,
          23888
         ]
        }
       ],
       "layout": {
        "legend": {
         "tracegroupgap": 0
        },
        "margin": {
         "b": 10,
         "l": 10,
         "r": 10,
         "t": 30
        },
        "template": {
         "data": {
          "bar": [
           {
            "error_x": {
             "color": "#2a3f5f"
            },
            "error_y": {
             "color": "#2a3f5f"
            },
            "marker": {
             "line": {
              "color": "#E5ECF6",
              "width": 0.5
             },
             "pattern": {
              "fillmode": "overlay",
              "size": 10,
              "solidity": 0.2
             }
            },
            "type": "bar"
           }
          ],
          "barpolar": [
           {
            "marker": {
             "line": {
              "color": "#E5ECF6",
              "width": 0.5
             },
             "pattern": {
              "fillmode": "overlay",
              "size": 10,
              "solidity": 0.2
             }
            },
            "type": "barpolar"
           }
          ],
          "carpet": [
           {
            "aaxis": {
             "endlinecolor": "#2a3f5f",
             "gridcolor": "white",
             "linecolor": "white",
             "minorgridcolor": "white",
             "startlinecolor": "#2a3f5f"
            },
            "baxis": {
             "endlinecolor": "#2a3f5f",
             "gridcolor": "white",
             "linecolor": "white",
             "minorgridcolor": "white",
             "startlinecolor": "#2a3f5f"
            },
            "type": "carpet"
           }
          ],
          "choropleth": [
           {
            "colorbar": {
             "outlinewidth": 0,
             "ticks": ""
            },
            "type": "choropleth"
           }
          ],
          "contour": [
           {
            "colorbar": {
             "outlinewidth": 0,
             "ticks": ""
            },
            "colorscale": [
             [
              0,
              "#0d0887"
             ],
             [
              0.1111111111111111,
              "#46039f"
             ],
             [
              0.2222222222222222,
              "#7201a8"
             ],
             [
              0.3333333333333333,
              "#9c179e"
             ],
             [
              0.4444444444444444,
              "#bd3786"
             ],
             [
              0.5555555555555556,
              "#d8576b"
             ],
             [
              0.6666666666666666,
              "#ed7953"
             ],
             [
              0.7777777777777778,
              "#fb9f3a"
             ],
             [
              0.8888888888888888,
              "#fdca26"
             ],
             [
              1,
              "#f0f921"
             ]
            ],
            "type": "contour"
           }
          ],
          "contourcarpet": [
           {
            "colorbar": {
             "outlinewidth": 0,
             "ticks": ""
            },
            "type": "contourcarpet"
           }
          ],
          "heatmap": [
           {
            "colorbar": {
             "outlinewidth": 0,
             "ticks": ""
            },
            "colorscale": [
             [
              0,
              "#0d0887"
             ],
             [
              0.1111111111111111,
              "#46039f"
             ],
             [
              0.2222222222222222,
              "#7201a8"
             ],
             [
              0.3333333333333333,
              "#9c179e"
             ],
             [
              0.4444444444444444,
              "#bd3786"
             ],
             [
              0.5555555555555556,
              "#d8576b"
             ],
             [
              0.6666666666666666,
              "#ed7953"
             ],
             [
              0.7777777777777778,
              "#fb9f3a"
             ],
             [
              0.8888888888888888,
              "#fdca26"
             ],
             [
              1,
              "#f0f921"
             ]
            ],
            "type": "heatmap"
           }
          ],
          "heatmapgl": [
           {
            "colorbar": {
             "outlinewidth": 0,
             "ticks": ""
            },
            "colorscale": [
             [
              0,
              "#0d0887"
             ],
             [
              0.1111111111111111,
              "#46039f"
             ],
             [
              0.2222222222222222,
              "#7201a8"
             ],
             [
              0.3333333333333333,
              "#9c179e"
             ],
             [
              0.4444444444444444,
              "#bd3786"
             ],
             [
              0.5555555555555556,
              "#d8576b"
             ],
             [
              0.6666666666666666,
              "#ed7953"
             ],
             [
              0.7777777777777778,
              "#fb9f3a"
             ],
             [
              0.8888888888888888,
              "#fdca26"
             ],
             [
              1,
              "#f0f921"
             ]
            ],
            "type": "heatmapgl"
           }
          ],
          "histogram": [
           {
            "marker": {
             "pattern": {
              "fillmode": "overlay",
              "size": 10,
              "solidity": 0.2
             }
            },
            "type": "histogram"
           }
          ],
          "histogram2d": [
           {
            "colorbar": {
             "outlinewidth": 0,
             "ticks": ""
            },
            "colorscale": [
             [
              0,
              "#0d0887"
             ],
             [
              0.1111111111111111,
              "#46039f"
             ],
             [
              0.2222222222222222,
              "#7201a8"
             ],
             [
              0.3333333333333333,
              "#9c179e"
             ],
             [
              0.4444444444444444,
              "#bd3786"
             ],
             [
              0.5555555555555556,
              "#d8576b"
             ],
             [
              0.6666666666666666,
              "#ed7953"
             ],
             [
              0.7777777777777778,
              "#fb9f3a"
             ],
             [
              0.8888888888888888,
              "#fdca26"
             ],
             [
              1,
              "#f0f921"
             ]
            ],
            "type": "histogram2d"
           }
          ],
          "histogram2dcontour": [
           {
            "colorbar": {
             "outlinewidth": 0,
             "ticks": ""
            },
            "colorscale": [
             [
              0,
              "#0d0887"
             ],
             [
              0.1111111111111111,
              "#46039f"
             ],
             [
              0.2222222222222222,
              "#7201a8"
             ],
             [
              0.3333333333333333,
              "#9c179e"
             ],
             [
              0.4444444444444444,
              "#bd3786"
             ],
             [
              0.5555555555555556,
              "#d8576b"
             ],
             [
              0.6666666666666666,
              "#ed7953"
             ],
             [
              0.7777777777777778,
              "#fb9f3a"
             ],
             [
              0.8888888888888888,
              "#fdca26"
             ],
             [
              1,
              "#f0f921"
             ]
            ],
            "type": "histogram2dcontour"
           }
          ],
          "mesh3d": [
           {
            "colorbar": {
             "outlinewidth": 0,
             "ticks": ""
            },
            "type": "mesh3d"
           }
          ],
          "parcoords": [
           {
            "line": {
             "colorbar": {
              "outlinewidth": 0,
              "ticks": ""
             }
            },
            "type": "parcoords"
           }
          ],
          "pie": [
           {
            "automargin": true,
            "type": "pie"
           }
          ],
          "scatter": [
           {
            "fillpattern": {
             "fillmode": "overlay",
             "size": 10,
             "solidity": 0.2
            },
            "type": "scatter"
           }
          ],
          "scatter3d": [
           {
            "line": {
             "colorbar": {
              "outlinewidth": 0,
              "ticks": ""
             }
            },
            "marker": {
             "colorbar": {
              "outlinewidth": 0,
              "ticks": ""
             }
            },
            "type": "scatter3d"
           }
          ],
          "scattercarpet": [
           {
            "marker": {
             "colorbar": {
              "outlinewidth": 0,
              "ticks": ""
             }
            },
            "type": "scattercarpet"
           }
          ],
          "scattergeo": [
           {
            "marker": {
             "colorbar": {
              "outlinewidth": 0,
              "ticks": ""
             }
            },
            "type": "scattergeo"
           }
          ],
          "scattergl": [
           {
            "marker": {
             "colorbar": {
              "outlinewidth": 0,
              "ticks": ""
             }
            },
            "type": "scattergl"
           }
          ],
          "scattermapbox": [
           {
            "marker": {
             "colorbar": {
              "outlinewidth": 0,
              "ticks": ""
             }
            },
            "type": "scattermapbox"
           }
          ],
          "scatterpolar": [
           {
            "marker": {
             "colorbar": {
              "outlinewidth": 0,
              "ticks": ""
             }
            },
            "type": "scatterpolar"
           }
          ],
          "scatterpolargl": [
           {
            "marker": {
             "colorbar": {
              "outlinewidth": 0,
              "ticks": ""
             }
            },
            "type": "scatterpolargl"
           }
          ],
          "scatterternary": [
           {
            "marker": {
             "colorbar": {
              "outlinewidth": 0,
              "ticks": ""
             }
            },
            "type": "scatterternary"
           }
          ],
          "surface": [
           {
            "colorbar": {
             "outlinewidth": 0,
             "ticks": ""
            },
            "colorscale": [
             [
              0,
              "#0d0887"
             ],
             [
              0.1111111111111111,
              "#46039f"
             ],
             [
              0.2222222222222222,
              "#7201a8"
             ],
             [
              0.3333333333333333,
              "#9c179e"
             ],
             [
              0.4444444444444444,
              "#bd3786"
             ],
             [
              0.5555555555555556,
              "#d8576b"
             ],
             [
              0.6666666666666666,
              "#ed7953"
             ],
             [
              0.7777777777777778,
              "#fb9f3a"
             ],
             [
              0.8888888888888888,
              "#fdca26"
             ],
             [
              1,
              "#f0f921"
             ]
            ],
            "type": "surface"
           }
          ],
          "table": [
           {
            "cells": {
             "fill": {
              "color": "#EBF0F8"
             },
             "line": {
              "color": "white"
             }
            },
            "header": {
             "fill": {
              "color": "#C8D4E3"
             },
             "line": {
              "color": "white"
             }
            },
            "type": "table"
           }
          ]
         },
         "layout": {
          "annotationdefaults": {
           "arrowcolor": "#2a3f5f",
           "arrowhead": 0,
           "arrowwidth": 1
          },
          "autotypenumbers": "strict",
          "coloraxis": {
           "colorbar": {
            "outlinewidth": 0,
            "ticks": ""
           }
          },
          "colorscale": {
           "diverging": [
            [
             0,
             "#8e0152"
            ],
            [
             0.1,
             "#c51b7d"
            ],
            [
             0.2,
             "#de77ae"
            ],
            [
             0.3,
             "#f1b6da"
            ],
            [
             0.4,
             "#fde0ef"
            ],
            [
             0.5,
             "#f7f7f7"
            ],
            [
             0.6,
             "#e6f5d0"
            ],
            [
             0.7,
             "#b8e186"
            ],
            [
             0.8,
             "#7fbc41"
            ],
            [
             0.9,
             "#4d9221"
            ],
            [
             1,
             "#276419"
            ]
           ],
           "sequential": [
            [
             0,
             "#0d0887"
            ],
            [
             0.1111111111111111,
             "#46039f"
            ],
            [
             0.2222222222222222,
             "#7201a8"
            ],
            [
             0.3333333333333333,
             "#9c179e"
            ],
            [
             0.4444444444444444,
             "#bd3786"
            ],
            [
             0.5555555555555556,
             "#d8576b"
            ],
            [
             0.6666666666666666,
             "#ed7953"
            ],
            [
             0.7777777777777778,
             "#fb9f3a"
            ],
            [
             0.8888888888888888,
             "#fdca26"
            ],
            [
             1,
             "#f0f921"
            ]
           ],
           "sequentialminus": [
            [
             0,
             "#0d0887"
            ],
            [
             0.1111111111111111,
             "#46039f"
            ],
            [
             0.2222222222222222,
             "#7201a8"
            ],
            [
             0.3333333333333333,
             "#9c179e"
            ],
            [
             0.4444444444444444,
             "#bd3786"
            ],
            [
             0.5555555555555556,
             "#d8576b"
            ],
            [
             0.6666666666666666,
             "#ed7953"
            ],
            [
             0.7777777777777778,
             "#fb9f3a"
            ],
            [
             0.8888888888888888,
             "#fdca26"
            ],
            [
             1,
             "#f0f921"
            ]
           ]
          },
          "colorway": [
           "#636efa",
           "#EF553B",
           "#00cc96",
           "#ab63fa",
           "#FFA15A",
           "#19d3f3",
           "#FF6692",
           "#B6E880",
           "#FF97FF",
           "#FECB52"
          ],
          "font": {
           "color": "#2a3f5f"
          },
          "geo": {
           "bgcolor": "white",
           "lakecolor": "white",
           "landcolor": "#E5ECF6",
           "showlakes": true,
           "showland": true,
           "subunitcolor": "white"
          },
          "hoverlabel": {
           "align": "left"
          },
          "hovermode": "closest",
          "mapbox": {
           "style": "light"
          },
          "paper_bgcolor": "white",
          "plot_bgcolor": "#E5ECF6",
          "polar": {
           "angularaxis": {
            "gridcolor": "white",
            "linecolor": "white",
            "ticks": ""
           },
           "bgcolor": "#E5ECF6",
           "radialaxis": {
            "gridcolor": "white",
            "linecolor": "white",
            "ticks": ""
           }
          },
          "scene": {
           "xaxis": {
            "backgroundcolor": "#E5ECF6",
            "gridcolor": "white",
            "gridwidth": 2,
            "linecolor": "white",
            "showbackground": true,
            "ticks": "",
            "zerolinecolor": "white"
           },
           "yaxis": {
            "backgroundcolor": "#E5ECF6",
            "gridcolor": "white",
            "gridwidth": 2,
            "linecolor": "white",
            "showbackground": true,
            "ticks": "",
            "zerolinecolor": "white"
           },
           "zaxis": {
            "backgroundcolor": "#E5ECF6",
            "gridcolor": "white",
            "gridwidth": 2,
            "linecolor": "white",
            "showbackground": true,
            "ticks": "",
            "zerolinecolor": "white"
           }
          },
          "shapedefaults": {
           "line": {
            "color": "#2a3f5f"
           }
          },
          "ternary": {
           "aaxis": {
            "gridcolor": "white",
            "linecolor": "white",
            "ticks": ""
           },
           "baxis": {
            "gridcolor": "white",
            "linecolor": "white",
            "ticks": ""
           },
           "bgcolor": "#E5ECF6",
           "caxis": {
            "gridcolor": "white",
            "linecolor": "white",
            "ticks": ""
           }
          },
          "title": {
           "x": 0.05
          },
          "xaxis": {
           "automargin": true,
           "gridcolor": "white",
           "linecolor": "white",
           "ticks": "",
           "title": {
            "standoff": 15
           },
           "zerolinecolor": "white",
           "zerolinewidth": 2
          },
          "yaxis": {
           "automargin": true,
           "gridcolor": "white",
           "linecolor": "white",
           "ticks": "",
           "title": {
            "standoff": 15
           },
           "zerolinecolor": "white",
           "zerolinewidth": 2
          }
         }
        }
       }
      },
      "image/png": "[encoded data removed]",
      "text/html": [
       "<div>                            <div id=\"5ba659c4-3efc-4c64-89ac-91e89e76f98f\" class=\"plotly-graph-div\" style=\"height:525px; width:100%;\"></div>            <script type=\"text/javascript\">                require([\"plotly\"], function(Plotly) {                    window.PLOTLYENV=window.PLOTLYENV || {};                                    if (document.getElementById(\"5ba659c4-3efc-4c64-89ac-91e89e76f98f\")) {                    Plotly.newPlot(                        \"5ba659c4-3efc-4c64-89ac-91e89e76f98f\",                        [{\"branchvalues\":\"total\",\"customdata\":[[\"Japan\"],[\"Japan\"],[\"USA\"],[\"Japan\"],[\"UK\"],[\"Sweden\"],[\"Germany\"],[\"USA\"],[\"Japan\"],[\"Japan\"],[\"Italy\"],[\"USA\"],[\"Japan\"],[\"Japan\"],[\"Japan\"],[\"USA\"],[\"Italy\"],[\"USA\"],[\"USA\"],[\"USA\"],[\"Germany\"],[\"Japan\"],[\"Sweden\"],[\"USA\"],[\"USA\"],[\"South Korea\"],[\"USA\"],[\"South Korea\"],[\"USA\"],[\"USA\"],[\"Germany\"],[\"Germany\"],[\"Germany\"],[\"Japan\"],[\"Japan\"],[\"Germany\"],[\"Italy\"],[\"Japan\"],[\"South Korea\"],[\"Sweden\"],[\"UK\"],[\"USA\"]],\"domain\":{\"x\":[0.0,1.0],\"y\":[0.0,1.0]},\"hovertemplate\":\"labels=%{label}\\u003cbr\\u003ecount=%{value}\\u003cbr\\u003eparent=%{parent}\\u003cbr\\u003eid=%{id}\\u003cbr\\u003ecountry=%{customdata[0]}\\u003cextra\\u003e\\u003c\\u002fextra\\u003e\",\"ids\":[\"Japan\\u002fSuzuki\",\"Japan\\u002fSubaru\",\"USA\\u002fPontiac\",\"Japan\\u002fNissan\",\"UK\\u002fLand Rover\",\"Sweden\\u002fVolvo\",\"Germany\\u002fVolkswagen\",\"USA\\u002fOldsmobile\",\"Japan\\u002fMitsubishi\",\"Japan\\u002fMazda\",\"Italy\\u002fMaserati\",\"USA\\u002fLincoln\",\"Japan\\u002fInfiniti\",\"Japan\\u002fAcura\",\"Japan\\u002fHonda\",\"USA\\u002fChrysler\",\"Italy\\u002fFIAT\",\"USA\\u002fGMC\",\"USA\\u002fCadillac\",\"USA\\u002fFord\",\"Germany\\u002fMercedes-Benz\",\"Japan\\u002fScion\",\"Sweden\\u002fSaab\",\"USA\\u002fHUMMER\",\"USA\\u002fDodge\",\"South Korea\\u002fKia\",\"USA\\u002fChevrolet\",\"South Korea\\u002fHyundai\",\"USA\\u002fPlymouth\",\"USA\\u002fBuick\",\"Germany\\u002fPorsche\",\"Germany\\u002fBMW\",\"Germany\\u002fAudi\",\"Japan\\u002fToyota\",\"Japan\\u002fLexus\",\"Germany\",\"Italy\",\"Japan\",\"South Korea\",\"Sweden\",\"UK\",\"USA\"],\"labels\":[\"Suzuki\",\"Subaru\",\"Pontiac\",\"Nissan\",\"Land Rover\",\"Volvo\",\"Volkswagen\",\"Oldsmobile\",\"Mitsubishi\",\"Mazda\",\"Maserati\",\"Lincoln\",\"Infiniti\",\"Acura\",\"Honda\",\"Chrysler\",\"FIAT\",\"GMC\",\"Cadillac\",\"Ford\",\"Mercedes-Benz\",\"Scion\",\"Saab\",\"HUMMER\",\"Dodge\",\"Kia\",\"Chevrolet\",\"Hyundai\",\"Plymouth\",\"Buick\",\"Porsche\",\"BMW\",\"Audi\",\"Toyota\",\"Lexus\",\"Germany\",\"Italy\",\"Japan\",\"South Korea\",\"Sweden\",\"UK\",\"USA\"],\"marker\":{\"colors\":[\"#636efa\",\"#636efa\",\"#EF553B\",\"#636efa\",\"#00cc96\",\"#ab63fa\",\"#FFA15A\",\"#EF553B\",\"#636efa\",\"#636efa\",\"#19d3f3\",\"#EF553B\",\"#636efa\",\"#636efa\",\"#636efa\",\"#EF553B\",\"#19d3f3\",\"#EF553B\",\"#EF553B\",\"#EF553B\",\"#FFA15A\",\"#636efa\",\"#ab63fa\",\"#EF553B\",\"#EF553B\",\"#FF6692\",\"#EF553B\",\"#FF6692\",\"#EF553B\",\"#EF553B\",\"#FFA15A\",\"#FFA15A\",\"#FFA15A\",\"#636efa\",\"#636efa\",\"#FFA15A\",\"#19d3f3\",\"#636efa\",\"#FF6692\",\"#ab63fa\",\"#00cc96\",\"#EF553B\"]},\"name\":\"\",\"parents\":[\"Japan\",\"Japan\",\"USA\",\"Japan\",\"UK\",\"Sweden\",\"Germany\",\"USA\",\"Japan\",\"Japan\",\"Italy\",\"USA\",\"Japan\",\"Japan\",\"Japan\",\"USA\",\"Italy\",\"USA\",\"USA\",\"USA\",\"Germany\",\"Japan\",\"Sweden\",\"USA\",\"USA\",\"South Korea\",\"USA\",\"South Korea\",\"USA\",\"USA\",\"Germany\",\"Germany\",\"Germany\",\"Japan\",\"Japan\",\"\",\"\",\"\",\"\",\"\",\"\",\"\"],\"values\":[611,611,1916,1294,91,560,652,213,556,911,1,656,11529,1114,622,4006,2,1085,648,3653,501,296,52,105,5570,3978,5249,1283,9,778,11,155,41,762,2125,1360,3,20431,5261,612,91,23888],\"type\":\"treemap\"}],                        {\"template\":{\"data\":{\"histogram2dcontour\":[{\"type\":\"histogram2dcontour\",\"colorbar\":{\"outlinewidth\":0,\"ticks\":\"\"},\"colorscale\":[[0.0,\"#0d0887\"],[0.1111111111111111,\"#46039f\"],[0.2222222222222222,\"#7201a8\"],[0.3333333333333333,\"#9c179e\"],[0.4444444444444444,\"#bd3786\"],[0.5555555555555556,\"#d8576b\"],[0.6666666666666666,\"#ed7953\"],[0.7777777777777778,\"#fb9f3a\"],[0.8888888888888888,\"#fdca26\"],[1.0,\"#f0f921\"]]}],\"choropleth\":[{\"type\":\"choropleth\",\"colorbar\":{\"outlinewidth\":0,\"ticks\":\"\"}}],\"histogram2d\":[{\"type\":\"histogram2d\",\"colorbar\":{\"outlinewidth\":0,\"ticks\":\"\"},\"colorscale\":[[0.0,\"#0d0887\"],[0.1111111111111111,\"#46039f\"],[0.2222222222222222,\"#7201a8\"],[0.3333333333333333,\"#9c179e\"],[0.4444444444444444,\"#bd3786\"],[0.5555555555555556,\"#d8576b\"],[0.6666666666666666,\"#ed7953\"],[0.7777777777777778,\"#fb9f3a\"],[0.8888888888888888,\"#fdca26\"],[1.0,\"#f0f921\"]]}],\"heatmap\":[{\"type\":\"heatmap\",\"colorbar\":{\"outlinewidth\":0,\"ticks\":\"\"},\"colorscale\":[[0.0,\"#0d0887\"],[0.1111111111111111,\"#46039f\"],[0.2222222222222222,\"#7201a8\"],[0.3333333333333333,\"#9c179e\"],[0.4444444444444444,\"#bd3786\"],[0.5555555555555556,\"#d8576b\"],[0.6666666666666666,\"#ed7953\"],[0.7777777777777778,\"#fb9f3a\"],[0.8888888888888888,\"#fdca26\"],[1.0,\"#f0f921\"]]}],\"heatmapgl\":[{\"type\":\"heatmapgl\",\"colorbar\":{\"outlinewidth\":0,\"ticks\":\"\"},\"colorscale\":[[0.0,\"#0d0887\"],[0.1111111111111111,\"#46039f\"],[0.2222222222222222,\"#7201a8\"],[0.3333333333333333,\"#9c179e\"],[0.4444444444444444,\"#bd3786\"],[0.5555555555555556,\"#d8576b\"],[0.6666666666666666,\"#ed7953\"],[0.7777777777777778,\"#fb9f3a\"],[0.8888888888888888,\"#fdca26\"],[1.0,\"#f0f921\"]]}],\"contourcarpet\":[{\"type\":\"contourcarpet\",\"colorbar\":{\"outlinewidth\":0,\"ticks\":\"\"}}],\"contour\":[{\"type\":\"contour\",\"colorbar\":{\"outlinewidth\":0,\"ticks\":\"\"},\"colorscale\":[[0.0,\"#0d0887\"],[0.1111111111111111,\"#46039f\"],[0.2222222222222222,\"#7201a8\"],[0.3333333333333333,\"#9c179e\"],[0.4444444444444444,\"#bd3786\"],[0.5555555555555556,\"#d8576b\"],[0.6666666666666666,\"#ed7953\"],[0.7777777777777778,\"#fb9f3a\"],[0.8888888888888888,\"#fdca26\"],[1.0,\"#f0f921\"]]}],\"surface\":[{\"type\":\"surface\",\"colorbar\":{\"outlinewidth\":0,\"ticks\":\"\"},\"colorscale\":[[0.0,\"#0d0887\"],[0.1111111111111111,\"#46039f\"],[0.2222222222222222,\"#7201a8\"],[0.3333333333333333,\"#9c179e\"],[0.4444444444444444,\"#bd3786\"],[0.5555555555555556,\"#d8576b\"],[0.6666666666666666,\"#ed7953\"],[0.7777777777777778,\"#fb9f3a\"],[0.8888888888888888,\"#fdca26\"],[1.0,\"#f0f921\"]]}],\"mesh3d\":[{\"type\":\"mesh3d\",\"colorbar\":{\"outlinewidth\":0,\"ticks\":\"\"}}],\"scatter\":[{\"fillpattern\":{\"fillmode\":\"overlay\",\"size\":10,\"solidity\":0.2},\"type\":\"scatter\"}],\"parcoords\":[{\"type\":\"parcoords\",\"line\":{\"colorbar\":{\"outlinewidth\":0,\"ticks\":\"\"}}}],\"scatterpolargl\":[{\"type\":\"scatterpolargl\",\"marker\":{\"colorbar\":{\"outlinewidth\":0,\"ticks\":\"\"}}}],\"bar\":[{\"error_x\":{\"color\":\"#2a3f5f\"},\"error_y\":{\"color\":\"#2a3f5f\"},\"marker\":{\"line\":{\"color\":\"#E5ECF6\",\"width\":0.5},\"pattern\":{\"fillmode\":\"overlay\",\"size\":10,\"solidity\":0.2}},\"type\":\"bar\"}],\"scattergeo\":[{\"type\":\"scattergeo\",\"marker\":{\"colorbar\":{\"outlinewidth\":0,\"ticks\":\"\"}}}],\"scatterpolar\":[{\"type\":\"scatterpolar\",\"marker\":{\"colorbar\":{\"outlinewidth\":0,\"ticks\":\"\"}}}],\"histogram\":[{\"marker\":{\"pattern\":{\"fillmode\":\"overlay\",\"size\":10,\"solidity\":0.2}},\"type\":\"histogram\"}],\"scattergl\":[{\"type\":\"scattergl\",\"marker\":{\"colorbar\":{\"outlinewidth\":0,\"ticks\":\"\"}}}],\"scatter3d\":[{\"type\":\"scatter3d\",\"line\":{\"colorbar\":{\"outlinewidth\":0,\"ticks\":\"\"}},\"marker\":{\"colorbar\":{\"outlinewidth\":0,\"ticks\":\"\"}}}],\"scattermapbox\":[{\"type\":\"scattermapbox\",\"marker\":{\"colorbar\":{\"outlinewidth\":0,\"ticks\":\"\"}}}],\"scatterternary\":[{\"type\":\"scatterternary\",\"marker\":{\"colorbar\":{\"outlinewidth\":0,\"ticks\":\"\"}}}],\"scattercarpet\":[{\"type\":\"scattercarpet\",\"marker\":{\"colorbar\":{\"outlinewidth\":0,\"ticks\":\"\"}}}],\"carpet\":[{\"aaxis\":{\"endlinecolor\":\"#2a3f5f\",\"gridcolor\":\"white\",\"linecolor\":\"white\",\"minorgridcolor\":\"white\",\"startlinecolor\":\"#2a3f5f\"},\"baxis\":{\"endlinecolor\":\"#2a3f5f\",\"gridcolor\":\"white\",\"linecolor\":\"white\",\"minorgridcolor\":\"white\",\"startlinecolor\":\"#2a3f5f\"},\"type\":\"carpet\"}],\"table\":[{\"cells\":{\"fill\":{\"color\":\"#EBF0F8\"},\"line\":{\"color\":\"white\"}},\"header\":{\"fill\":{\"color\":\"#C8D4E3\"},\"line\":{\"color\":\"white\"}},\"type\":\"table\"}],\"barpolar\":[{\"marker\":{\"line\":{\"color\":\"#E5ECF6\",\"width\":0.5},\"pattern\":{\"fillmode\":\"overlay\",\"size\":10,\"solidity\":0.2}},\"type\":\"barpolar\"}],\"pie\":[{\"automargin\":true,\"type\":\"pie\"}]},\"layout\":{\"autotypenumbers\":\"strict\",\"colorway\":[\"#636efa\",\"#EF553B\",\"#00cc96\",\"#ab63fa\",\"#FFA15A\",\"#19d3f3\",\"#FF6692\",\"#B6E880\",\"#FF97FF\",\"#FECB52\"],\"font\":{\"color\":\"#2a3f5f\"},\"hovermode\":\"closest\",\"hoverlabel\":{\"align\":\"left\"},\"paper_bgcolor\":\"white\",\"plot_bgcolor\":\"#E5ECF6\",\"polar\":{\"bgcolor\":\"#E5ECF6\",\"angularaxis\":{\"gridcolor\":\"white\",\"linecolor\":\"white\",\"ticks\":\"\"},\"radialaxis\":{\"gridcolor\":\"white\",\"linecolor\":\"white\",\"ticks\":\"\"}},\"ternary\":{\"bgcolor\":\"#E5ECF6\",\"aaxis\":{\"gridcolor\":\"white\",\"linecolor\":\"white\",\"ticks\":\"\"},\"baxis\":{\"gridcolor\":\"white\",\"linecolor\":\"white\",\"ticks\":\"\"},\"caxis\":{\"gridcolor\":\"white\",\"linecolor\":\"white\",\"ticks\":\"\"}},\"coloraxis\":{\"colorbar\":{\"outlinewidth\":0,\"ticks\":\"\"}},\"colorscale\":{\"sequential\":[[0.0,\"#0d0887\"],[0.1111111111111111,\"#46039f\"],[0.2222222222222222,\"#7201a8\"],[0.3333333333333333,\"#9c179e\"],[0.4444444444444444,\"#bd3786\"],[0.5555555555555556,\"#d8576b\"],[0.6666666666666666,\"#ed7953\"],[0.7777777777777778,\"#fb9f3a\"],[0.8888888888888888,\"#fdca26\"],[1.0,\"#f0f921\"]],\"sequentialminus\":[[0.0,\"#0d0887\"],[0.1111111111111111,\"#46039f\"],[0.2222222222222222,\"#7201a8\"],[0.3333333333333333,\"#9c179e\"],[0.4444444444444444,\"#bd3786\"],[0.5555555555555556,\"#d8576b\"],[0.6666666666666666,\"#ed7953\"],[0.7777777777777778,\"#fb9f3a\"],[0.8888888888888888,\"#fdca26\"],[1.0,\"#f0f921\"]],\"diverging\":[[0,\"#8e0152\"],[0.1,\"#c51b7d\"],[0.2,\"#de77ae\"],[0.3,\"#f1b6da\"],[0.4,\"#fde0ef\"],[0.5,\"#f7f7f7\"],[0.6,\"#e6f5d0\"],[0.7,\"#b8e186\"],[0.8,\"#7fbc41\"],[0.9,\"#4d9221\"],[1,\"#276419\"]]},\"xaxis\":{\"gridcolor\":\"white\",\"linecolor\":\"white\",\"ticks\":\"\",\"title\":{\"standoff\":15},\"zerolinecolor\":\"white\",\"automargin\":true,\"zerolinewidth\":2},\"yaxis\":{\"gridcolor\":\"white\",\"linecolor\":\"white\",\"ticks\":\"\",\"title\":{\"standoff\":15},\"zerolinecolor\":\"white\",\"automargin\":true,\"zerolinewidth\":2},\"scene\":{\"xaxis\":{\"backgroundcolor\":\"#E5ECF6\",\"gridcolor\":\"white\",\"linecolor\":\"white\",\"showbackground\":true,\"ticks\":\"\",\"zerolinecolor\":\"white\",\"gridwidth\":2},\"yaxis\":{\"backgroundcolor\":\"#E5ECF6\",\"gridcolor\":\"white\",\"linecolor\":\"white\",\"showbackground\":true,\"ticks\":\"\",\"zerolinecolor\":\"white\",\"gridwidth\":2},\"zaxis\":{\"backgroundcolor\":\"#E5ECF6\",\"gridcolor\":\"white\",\"linecolor\":\"white\",\"showbackground\":true,\"ticks\":\"\",\"zerolinecolor\":\"white\",\"gridwidth\":2}},\"shapedefaults\":{\"line\":{\"color\":\"#2a3f5f\"}},\"annotationdefaults\":{\"arrowcolor\":\"#2a3f5f\",\"arrowhead\":0,\"arrowwidth\":1},\"geo\":{\"bgcolor\":\"white\",\"landcolor\":\"#E5ECF6\",\"subunitcolor\":\"white\",\"showland\":true,\"showlakes\":true,\"lakecolor\":\"white\"},\"title\":{\"x\":0.05},\"mapbox\":{\"style\":\"light\"}}},\"legend\":{\"tracegroupgap\":0},\"margin\":{\"t\":30,\"l\":10,\"r\":10,\"b\":10}},                        {\"responsive\": true}                    ).then(function(){\n",
       "                            \n",
       "var gd = document.getElementById('5ba659c4-3efc-4c64-89ac-91e89e76f98f');\n",
       "var x = new MutationObserver(function (mutations, observer) {{\n",
       "        var display = window.getComputedStyle(gd).display;\n",
       "        if (!display || display === 'none') {{\n",
       "            console.log([gd, 'removed!']);\n",
       "            Plotly.purge(gd);\n",
       "            observer.disconnect();\n",
       "        }}\n",
       "}});\n",
       "\n",
       "// Listen for the removal of the full notebook cells\n",
       "var notebookContainer = gd.closest('#notebook-container');\n",
       "if (notebookContainer) {{\n",
       "    x.observe(notebookContainer, {childList: true});\n",
       "}}\n",
       "\n",
       "// Listen for the clearing of the current output cell\n",
       "var outputEl = gd.closest('.output');\n",
       "if (outputEl) {{\n",
       "    x.observe(outputEl, {childList: true});\n",
       "}}\n",
       "\n",
       "                        })                };                });            </script>        </div>"
      ]
     },
     "metadata": {},
     "output_type": "display_data"
    }
   ],
   "source": [
    "import plotly.express as px\n",
    "# Sample data\n",
    "treemap_df = df2['make'].value_counts().reset_index()\n",
    "treemap_df.columns = ['make', 'count']\n",
    "\n",
    "make_to_country = {\n",
    "    \"Infiniti\": \"Japan\",\n",
    "    \"Dodge\": \"USA\",\n",
    "    \"Chevrolet\": \"USA\",\n",
    "    \"Chrysler\": \"USA\",\n",
    "    \"Kia\": \"South Korea\",\n",
    "    \"Ford\": \"USA\",\n",
    "    \"Lexus\": \"Japan\",\n",
    "    \"Pontiac\": \"USA\",\n",
    "    \"Nissan\": \"Japan\",\n",
    "    \"Hyundai\": \"South Korea\",\n",
    "    \"Acura\": \"Japan\",\n",
    "    \"GMC\": \"USA\",\n",
    "    \"Mazda\": \"Japan\",\n",
    "    \"Buick\": \"USA\",\n",
    "    \"Toyota\": \"Japan\",\n",
    "    \"Lincoln\": \"USA\",\n",
    "    \"Volkswagen\": \"Germany\",\n",
    "    \"Cadillac\": \"USA\",\n",
    "    \"Honda\": \"Japan\",\n",
    "    \"Suzuki\": \"Japan\",\n",
    "    \"Subaru\": \"Japan\",\n",
    "    \"Volvo\": \"Sweden\",\n",
    "    \"Mitsubishi\": \"Japan\",\n",
    "    \"Mercedes-Benz\": \"Germany\",\n",
    "    \"Scion\": \"Japan\",\n",
    "    \"Oldsmobile\": \"USA\",\n",
    "    \"BMW\": \"Germany\",\n",
    "    \"HUMMER\": \"USA\",\n",
    "    \"Land Rover\": \"UK\",\n",
    "    \"Saab\": \"Sweden\",\n",
    "    \"Audi\": \"Germany\",\n",
    "    \"Porsche\": \"Germany\",\n",
    "    \"Plymouth\": \"USA\",\n",
    "    \"FIAT\": \"Italy\",\n",
    "    \"Maserati\": \"Italy\"\n",
    "}\n",
    "\n",
    "treemap_df['country'] = treemap_df['make'].map(make_to_country)\n",
    "\n",
    "fig = px.treemap(\n",
    "    treemap_df,\n",
    "    path=['country','make'],\n",
    "    values='count',\n",
    "    color='country',\n",
    "    color_continuous_scale='Cividis',\n",
    "    color_continuous_midpoint=treemap_df['count'].median())\n",
    "\n",
    "fig.update_layout(margin=dict(t=30, l=10, r=10, b=10))\n",
    "fig.show()\n"
   ]
  },
  {
   "cell_type": "markdown",
   "metadata": {},
   "source": [
    "# Data Predictions\n",
    "#### 'mmr' v. 'sellingprice'\n"
   ]
  },
  {
   "cell_type": "code",
   "execution_count": null,
   "metadata": {},
   "outputs": [],
   "source": [
    "import matplotlib.pyplot as plt\n",
    "import seaborn as sns\n",
    "\n",
    "sns.set(style=\"whitegrid\")\n",
    "plt.scatter(df['sellingprice'], df['mmr'], alpha=0.2, s=5)  \n",
    "sns.regplot(x='sellingprice', y='mmr', data=df, scatter=False, color='red')  \n",
    "plt.title('Selling Price vs MMR')  \n",
    "plt.xlabel('Selling Price')  \n",
    "plt.ylabel('MMR') \n",
    "plt.show()"
   ]
  },
  {
   "cell_type": "code",
   "execution_count": null,
   "metadata": {},
   "outputs": [],
   "source": [
    "X = df['mmr']  # Predictor (independent variable)\n",
    "y = df['sellingprice']  # Target (dependent variable)\n",
    "r_squared = r2_score(y, X)\n",
    "print(f\"R-squared (R²) between MMR and Selling Price: {r_squared}\")\n",
    "\n",
    "\n",
    "# Create a DataFrame to store R² values\n",
    "results = pd.DataFrame(columns=['Predictor', 'R_Squared'])\n",
    "results.loc[0] = ['mmr', r2_score(df['sellingprice'], df['mmr'])]"
   ]
  },
  {
   "cell_type": "markdown",
   "metadata": {},
   "source": [
    "Here we can get a baseline understanding of how accurate MMR is. With an R² of .9538, it explains 95% of 'sellingprice' variance. We will see if we can create a model better than the industry standard! "
   ]
  },
  {
   "cell_type": "markdown",
   "metadata": {},
   "source": [
    "#### Using features to predict selling price with Linear Regression\n",
    "List of numeric features:\n",
    "1. year\n",
    "2. condition\n",
    "3. odometer\n",
    "4. auto_transmission\n",
    "5. car_age\n",
    "6. MSRP"
   ]
  },
  {
   "cell_type": "code",
   "execution_count": null,
   "metadata": {},
   "outputs": [],
   "source": [
    "df_predictor = df[['condition', 'odometer', 'auto_transmission', 'car_age', 'MSRP', 'body_size']]\n",
    "df_target = df['sellingprice']\n",
    "Xlr = df_predictor\n",
    "ylr = df_target\n",
    "\n",
    "# Split into training and testing set\n",
    "Xlr_train, Xlr_test, Ylr_train, Ylr_test = train_test_split(Xlr, ylr, test_size=0.3, random_state=39)\n",
    "# Train the Linear Regression model\n",
    "model = LinearRegression()\n",
    "model.fit(Xlr_train, Ylr_train)"
   ]
  },
  {
   "cell_type": "markdown",
   "metadata": {},
   "source": [
    "Make predictions and evaluate the model"
   ]
  },
  {
   "cell_type": "code",
   "execution_count": null,
   "metadata": {},
   "outputs": [],
   "source": [
    "ylr_pred = model.predict(Xlr_test)\n",
    "mse = mean_squared_error(Ylr_test, ylr_pred)\n",
    "print(f\"Mean Squared Error (MSE): {mse}\")\n",
    "\n",
    "r2_linreg = r2_score(Ylr_test, ylr_pred)\n",
    "print(f\"R^2 (coefficient of determination): {r2_linreg}\")"
   ]
  },
  {
   "cell_type": "markdown",
   "metadata": {},
   "source": [
    "So, unsuprisingly, our linear regression model did not preform as well as MMR did."
   ]
  },
  {
   "cell_type": "code",
   "execution_count": null,
   "metadata": {},
   "outputs": [],
   "source": [
    "results.loc[1] = ['Linear Regression', r2_linreg]\n",
    "print(results)"
   ]
  },
  {
   "cell_type": "markdown",
   "metadata": {},
   "source": [
    "Ploting predictions from linear regression model vs. actual selling price"
   ]
  },
  {
   "cell_type": "code",
   "execution_count": null,
   "metadata": {},
   "outputs": [],
   "source": [
    "plt.figure(figsize=(10,6))\n",
    "plt.scatter(Ylr_test, ylr_pred, alpha=0.5, color='blue') \n",
    "plt.plot([min(Ylr_test), max(Ylr_test)], [min(Ylr_test), max(Ylr_test)], color='red', linewidth=1.5) # Perfect prediction line\n",
    "plt.xlabel('Actual Selling Price') \n",
    "plt.ylabel('Linear Regression Predicted Selling Price')\n",
    "plt.title('Actual vs Linear Regression Predicted Selling Price')\n",
    "plt.show()"
   ]
  },
  {
   "cell_type": "markdown",
   "metadata": {},
   "source": [
    "#### Standardization and PCA\n",
    "\n",
    "To visualize using PCA, we must standardize the features using `StandardScaler()` from `sklearn.preprocessing`"
   ]
  },
  {
   "cell_type": "code",
   "execution_count": null,
   "metadata": {},
   "outputs": [],
   "source": [
    "numerical_cols = ['odometer', 'condition', 'MSRP', 'car_age']\n",
    "\n",
    "\n",
    "from sklearn.preprocessing import StandardScaler\n",
    "# Starting the engine\n",
    "scaler = StandardScaler()\n",
    "\n",
    "df_stand = pd.DataFrame(\n",
    "    scaler.fit_transform(df[numerical_cols]),\n",
    "    # Keeping the index and \n",
    "    index = df.index,\n",
    "    columns = df[numerical_cols].columns\n",
    ")\n",
    "\n",
    "df_stand"
   ]
  },
  {
   "cell_type": "code",
   "execution_count": null,
   "metadata": {},
   "outputs": [],
   "source": [
    "from sklearn.decomposition import PCA\n",
    "df_pca = PCA(n_components = 2).fit(df_stand)\n",
    "\n",
    "print(f'The variance retained by the first PC is: {round(df_pca.explained_variance_ratio_[0]*100, 2)}%')\n",
    "print(f'The variance retained by the second PC is: {round(df_pca.explained_variance_ratio_[1]*100, 2)}%')\n",
    "print(f'for a total variance retained of: {round(sum(df_pca.explained_variance_ratio_)*100, 2)}%')"
   ]
  },
  {
   "cell_type": "code",
   "execution_count": null,
   "metadata": {},
   "outputs": [],
   "source": [
    "# Source: 19_PCA.ipynb\n",
    "\n",
    "# Get PCA scores (coordinates of observations in PC space)\n",
    "scores = df_pca.transform(df_stand)\n",
    "\n",
    "# Get PCA loadings (contributions of original features to PCs)\n",
    "loadings = df_pca.components_.T * np.sqrt(df_pca.explained_variance_)\n",
    "\n",
    "# Create figure\n",
    "plt.figure(figsize=(10, 8))\n",
    "\n",
    "scatter = plt.scatter(\n",
    "    x=scores[:, 0],  # PC1 scores\n",
    "    y=scores[:, 1],  # PC2 scores\n",
    "    alpha=0.5,\n",
    "    s=30\n",
    ")\n",
    "\n",
    "for i, feature in enumerate(numerical_cols):\n",
    "    plt.arrow(\n",
    "        x=0, y=0,\n",
    "        dx=loadings[i, 0]*3,  # Scaling factor for visibility\n",
    "        dy=loadings[i, 1]*3,\n",
    "        color='red',\n",
    "        alpha=0.8,\n",
    "        head_width=0.1\n",
    "    )\n",
    "    plt.text(\n",
    "        loadings[i, 0]*3.2,  # Slightly offset from arrow\n",
    "        loadings[i, 1]*3.2,\n",
    "        feature,\n",
    "        color='darkred',\n",
    "        fontsize=12\n",
    "    )\n",
    "\n",
    "plt.title('PCA Biplot', fontsize=14)\n",
    "plt.xlabel(f'PC1 ({round(df_pca.explained_variance_ratio_[0]*100, 1)}% Variance)')\n",
    "plt.ylabel(f'PC2 ({round(df_pca.explained_variance_ratio_[1]*100, 1)}% Variance)')\n",
    "plt.grid(alpha=0.3)\n",
    "plt.axhline(0, color='grey', ls='--')\n",
    "plt.axvline(0, color='grey', ls='--')\n",
    "\n",
    "# Add variance explanation in legend\n",
    "plt.legend(\n",
    "    handles=[plt.Line2D([0], [0], marker='o', color='w', label=f'Total Variance Explained: {round(sum(df_pca.explained_variance_ratio_)*100, 1)}%',\n",
    "             markerfacecolor='blue', markersize=10)],\n",
    "    loc='best'\n",
    ")\n",
    "\n",
    "plt.tight_layout()\n",
    "plt.show()"
   ]
  },
  {
   "cell_type": "markdown",
   "metadata": {},
   "source": [
    "Now let's see how the first two PC's can preform when predicting 'sellingprice'"
   ]
  },
  {
   "cell_type": "code",
   "execution_count": null,
   "metadata": {},
   "outputs": [],
   "source": [
    "X_pca = df_pca.transform(df_stand)\n",
    "\n",
    "y_pca = df['sellingprice']\n",
    "X_pca = X_pca[:, [0, 1]]\n",
    "\n",
    "X_pca_train, X_pca_test, Y_pca_train, Y_pca_test = train_test_split(X_pca, y_pca, test_size=0.3, random_state=39)\n",
    "\n",
    "model = LinearRegression()\n",
    "\n",
    "model.fit(X_pca[:, [0, 1]], y_pca)"
   ]
  },
  {
   "cell_type": "code",
   "execution_count": null,
   "metadata": {},
   "outputs": [],
   "source": [
    "y_pca_pred = model.predict(X_pca_test)\n",
    "mse = mean_squared_error(Y_pca_test, y_pca_pred)\n",
    "print(f\"Mean Squared Error (MSE): {mse}\")\n",
    "\n",
    "r2_pca2 = r2_score(Y_pca_test, y_pca_pred)\n",
    "print(f\"R^2 (coefficient of determination): {r2_pca2}\")"
   ]
  },
  {
   "cell_type": "code",
   "execution_count": null,
   "metadata": {},
   "outputs": [],
   "source": [
    "plt.figure(figsize=(10,6))\n",
    "plt.scatter(Y_pca_test, y_pca_pred, alpha=0.5, color='red') \n",
    "plt.plot([min(Y_pca_test), max(Y_pca_test)], [min(Y_pca_test), max(Y_pca_test)], color='blue', linewidth=1.5) # Perfect prediction line\n",
    "plt.xlabel('Actual Selling Price') \n",
    "plt.ylabel('Two Principle Component Predicted Selling Price')\n",
    "plt.title('Actual vs Two Principle Component Predicted Selling Price')\n",
    "plt.show()"
   ]
  },
  {
   "cell_type": "code",
   "execution_count": null,
   "metadata": {},
   "outputs": [],
   "source": [
    "# Predict and calculate R²\n",
    "y_pred = model.predict(X_pca[:, [0, 1]])\n",
    "r_squared = r2_score(y, y_pred)\n",
    "\n",
    "results.loc[2] = ['PCA (2 pricipal components)', r_squared]\n",
    "print(results)\n"
   ]
  },
  {
   "cell_type": "markdown",
   "metadata": {},
   "source": [
    "##### XGBoost\n",
    "\n",
    "Let's see if XGBoost can do any better, first without tuning paremeters to find a baseline"
   ]
  },
  {
   "cell_type": "code",
   "execution_count": null,
   "metadata": {
    "ExecuteTime": {
     "end_time": "2025-04-26T15:20:07.969570Z",
     "start_time": "2025-04-26T15:20:07.959410Z"
    }
   },
   "outputs": [],
   "source": [
    "from xgboost import XGBRegressor\n",
    "\n",
    "X_train, X_test, y_train, y_test = train_test_split(df_predictor, df_target, test_size=0.3, random_state=39) # Create training set\n",
    "\n",
    "# Materials sourced from lecture slides"
   ]
  },
  {
   "cell_type": "code",
   "execution_count": null,
   "metadata": {},
   "outputs": [],
   "source": [
    "xgb_total = (\n",
    "    XGBRegressor(\n",
    "        max_depth = 5, \n",
    "        n_estimators = 200,\n",
    "    )\n",
    "    .fit(X_train, y_train)\n",
    ")\n",
    "\n",
    "# Calculating the R-squared using the test data\n",
    "xgb_R2 = xgb_total.score(X_test, y_test)\n",
    "\n",
    "print(f'R-squared value before tuning: {xgb_R2}')"
   ]
  },
  {
   "cell_type": "markdown",
   "metadata": {},
   "source": [
    "To conserve on time & precious computing power for the grid search, let's see if there could be an earlier stopping point"
   ]
  },
  {
   "cell_type": "code",
   "execution_count": null,
   "metadata": {},
   "outputs": [],
   "source": [
    "xgbr_esr50 = (\n",
    "    XGBRegressor(\n",
    "        n_estimators = 1000,  # Create a thousand trees\n",
    "        learning_rate = 0.1,  # Learning rate\n",
    "        random_state = 3870,\n",
    "        early_stopping_rounds = 50  # Checks to see if there is an improvement 50 trees previously\n",
    "    )\n",
    "    .fit(\n",
    "        X_train, y_train,                # Training set for the model\n",
    "        eval_set = [(X_train, y_train),  # Calculates the rmse for the training set\n",
    "                    (X_test, y_test)],   # Calculates the rmse for the testing set\n",
    "        verbose = False\n",
    "    )\n",
    ")\n",
    "\n",
    "# Saving the validation results\n",
    "xgb_esr50_df = pd.DataFrame({\n",
    "    'train error': xgbr_esr50.evals_result()['validation_0']['rmse'],\n",
    "    'test error':  xgbr_esr50.evals_result()['validation_1']['rmse']\n",
    "})\n",
    "\n",
    "print(xgb_esr50_df.nsmallest(n = 1, columns= 'test error').reset_index())\n",
    "\n",
    "# # Plotting the validation results:\n",
    "# xgb_esr50_df.plot(kind = 'line')\n",
    "\n",
    "# # plt.axvline(, color = 'black', linestyle = '--');"
   ]
  },
  {
   "cell_type": "markdown",
   "metadata": {},
   "source": [
    "As we know, XGBoost has many hyper parameters. Let's do a grid search to find the best combination"
   ]
  },
  {
   "cell_type": "code",
   "execution_count": null,
   "metadata": {},
   "outputs": [],
   "source": [
    "xgb_hp_dict = {\n",
    "    'learning_rate':    [0.01, 0.05, 0.1, 0.2, 0.3], # Each new prediction's contribution to y_hat\n",
    "    'n_estimators':     [100, 250, 500, 750, 1000],  # Number of trees to make\n",
    "    'max_depth':        [1, 3, 5, 7],                # Maximum number of splits: 1, 8, 32, 128 leaf nodes   \n",
    "    'colsample_bytree': [0.4, 0.6, 0.8, 1],          # Number of features to use per tree (40, 60, 80, & 100%)\n",
    "    'lambda':           [0, 0.5, 1, 2, 5]            # Regularization parameters to try\n",
    "}"
   ]
  },
  {
   "cell_type": "code",
   "execution_count": null,
   "metadata": {},
   "outputs": [],
   "source": [
    "from sklearn.model_selection import GridSearchCV, KFold\n",
    "\n",
    "# 5 fold cross-val\n",
    "cv5 = KFold(n_splits = 5, shuffle = True)\n",
    "\n",
    "# Defining the model:\n",
    "xgb_reg = XGBRegressor(random_state = 3870, early_stopping_rounds = 50)\n",
    "\n",
    "# Defining the grid search\n",
    "grid_search = GridSearchCV(\n",
    "    estimator = xgb_reg,\n",
    "    param_grid = xgb_hp_dict,\n",
    "    n_jobs = -1,\n",
    "    cv = cv5    \n",
    ")"
   ]
  },
  {
   "cell_type": "code",
   "execution_count": null,
   "metadata": {},
   "outputs": [],
   "source": [
    "gs_results = (\n",
    "    grid_search\n",
    "    .fit(\n",
    "        X_train, y_train,\n",
    "        eval_set = [(X_test, y_test)],\n",
    "        verbose = 2\n",
    "    )\n",
    ")"
   ]
  },
  {
   "cell_type": "markdown",
   "metadata": {},
   "source": [
    "#### Random Forest\n",
    "\n",
    "First let's import the proper packages"
   ]
  },
  {
   "cell_type": "code",
   "execution_count": null,
   "metadata": {},
   "outputs": [],
   "source": [
    "from sklearn.ensemble import RandomForestRegressor"
   ]
  },
  {
   "cell_type": "markdown",
   "metadata": {},
   "source": [
    "Next we need to select the same predictor features as before and train-test split the data"
   ]
  },
  {
   "cell_type": "code",
   "execution_count": null,
   "metadata": {},
   "outputs": [],
   "source": [
    "df_predictor = df[['condition', 'odometer', 'auto_transmission', 'car_age', 'MSRP', 'body_size']]\n",
    "df_target = df['sellingprice']\n",
    "\n",
    "X_rf_train, X_rf_test, Y_rf_train, Y_rf_test = train_test_split(df_predictor, df_target, test_size=0.3, random_state=39)"
   ]
  },
  {
   "cell_type": "markdown",
   "metadata": {},
   "source": [
    "Now we can start the Random Forest"
   ]
  },
  {
   "cell_type": "code",
   "execution_count": null,
   "metadata": {},
   "outputs": [],
   "source": [
    "rf_model = RandomForestRegressor(n_estimators=100, random_state=31)\n",
    "rf_model.fit(X_rf_train, Y_rf_train)"
   ]
  },
  {
   "cell_type": "markdown",
   "metadata": {},
   "source": [
    "From here, we can make predicitons and look at the model's accuracy."
   ]
  },
  {
   "cell_type": "code",
   "execution_count": null,
   "metadata": {},
   "outputs": [],
   "source": [
    "Y_rf_pred = rf_model.predict(X_rf_test)\n",
    "\n",
    "mse_rf = mean_squared_error(Y_rf_test, Y_rf_pred)\n",
    "r2_rf = r2_score(Y_rf_test, Y_rf_pred)\n",
    "\n",
    "print(f\"Random Forest MSE: {mse_rf}\")\n",
    "print(f\"Random Forest R^2: {r2_rf}\")"
   ]
  },
  {
   "cell_type": "markdown",
   "metadata": {},
   "source": [
    "The Random Forest Model gives us a very strong R^2 value. Let's visualize the actual vs predicted values next. "
   ]
  },
  {
   "cell_type": "code",
   "execution_count": null,
   "metadata": {},
   "outputs": [],
   "source": [
    "plt.figure(figsize=(10,6))\n",
    "plt.scatter(Y_rf_test, Y_rf_pred, alpha=0.5, color='blue')\n",
    "plt.plot([min(Y_rf_test), max(Y_rf_test)], [min(Y_rf_test), max(Y_rf_test)], color='red', linewidth=1.0) \n",
    "plt.ylabel('Random Forest Predicted Selling Price')\n",
    "plt.title('Actual vs Random Forest Predicted Selling Price')\n",
    "plt.show()"
   ]
  },
  {
   "cell_type": "markdown",
   "metadata": {},
   "source": [
    "#### Feature Importance\n",
    "\n",
    "We can also investigate what features were the most important in the splits of the trees. "
   ]
  },
  {
   "cell_type": "code",
   "execution_count": null,
   "metadata": {},
   "outputs": [],
   "source": [
    "feat_imp = pd.DataFrame({\n",
    "    'feature': df_predictor.columns,\n",
    "    'importance': rf_model.feature_importances_\n",
    "}).sort_values(by='importance', ascending=False)\n",
    "\n",
    "feat_imp"
   ]
  },
  {
   "cell_type": "code",
   "execution_count": null,
   "metadata": {},
   "outputs": [],
   "source": [
    "feat_imp.set_index('feature').plot(kind = 'bar');"
   ]
  },
  {
   "cell_type": "markdown",
   "metadata": {},
   "source": [
    "This means that the age of the car was the most important feature to the splitting of the trees"
   ]
  },
  {
   "cell_type": "markdown",
   "metadata": {},
   "source": [
    "##### Model Results"
   ]
  },
  {
   "cell_type": "code",
   "execution_count": null,
   "metadata": {},
   "outputs": [],
   "source": [
    "results.loc[3] = ['Random Forest Regression', r2_rf]\n",
    "print(results)"
   ]
  },
  {
   "cell_type": "markdown",
   "metadata": {},
   "source": [
    "What these R-squared values mean is that MMR is the best prediciton for sales price. This makes sense due to MMR being a wholesale market valuation of the car. However, the best model we have built so far is the Random Forest with the highest R-squared value."
   ]
  }
 ],
 "metadata": {
  "kernelspec": {
   "display_name": "Python [conda env:base] *",
   "language": "python",
   "name": "conda-base-py"
  },
  "language_info": {
   "codemirror_mode": {
    "name": "ipython",
    "version": 3
   },
   "file_extension": ".py",
   "mimetype": "text/x-python",
   "name": "python",
   "nbconvert_exporter": "python",
   "pygments_lexer": "ipython3",
   "version": "3.12.7"
  }
 },
 "nbformat": 4,
 "nbformat_minor": 4
}
