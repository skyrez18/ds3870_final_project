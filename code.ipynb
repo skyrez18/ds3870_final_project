{
 "cells": [
  {
   "cell_type": "markdown",
   "metadata": {},
   "source": [
    "# Used Car Sale Auction Prices\n",
    "By Sky Reznik, John Lackey and Kevin Abatto"
   ]
  },
  {
   "cell_type": "markdown",
   "metadata": {},
   "source": [
    "Import packages"
   ]
  },
  {
   "cell_type": "code",
   "execution_count": 363,
   "metadata": {},
   "outputs": [],
   "source": [
    "import pandas as pd; # type: ignore\n",
    "import numpy as np; # type: ignore\n",
    "from sklearn.preprocessing import OneHotEncoder; # type: ignore\n",
    "from sklearn.model_selection import train_test_split\n",
    "from sklearn.linear_model import LinearRegression\n",
    "from sklearn.metrics import mean_squared_error, r2_score\n",
    "import os;\n",
    "from kaggle.api.kaggle_api_extended import KaggleApi; # type: ignore"
   ]
  },
  {
   "cell_type": "markdown",
   "metadata": {},
   "source": [
    "Download data using Kaggle KPI"
   ]
  },
  {
   "cell_type": "code",
   "execution_count": 364,
   "metadata": {},
   "outputs": [
    {
     "name": "stdout",
     "output_type": "stream",
     "text": [
      "Dataset already exists, download skipped.\n"
     ]
    },
    {
     "name": "stderr",
     "output_type": "stream",
     "text": [
      "/var/folders/mv/9l39xh61679g3fk2_5cyrrzh0000gn/T/ipykernel_49361/2201586472.py:30: DtypeWarning: Columns (8,13,16) have mixed types. Specify dtype option on import or set low_memory=False.\n",
      "  df = pd.read_csv(shared_file_path, quotechar='\"', on_bad_lines='skip')\n"
     ]
    }
   ],
   "source": [
    "# Specify the dataset and the path to save it\n",
    "dataset_name = 'tunguz/used-car-auction-prices'  # Replace with your actual Kaggle dataset name\n",
    "download_path = './kaggle_datasets'     # Folder to store the dataset\n",
    "\n",
    "# Create download path if it doesn't exist\n",
    "if not os.path.exists(download_path):\n",
    "    os.makedirs(download_path)\n",
    "\n",
    "# Check if file exists\n",
    "dataset_file_path = os.path.join(download_path, 'car_prices.csv')   \n",
    "# Check if the dataset already exists in the folder\n",
    "if not os.path.exists(dataset_file_path):\n",
    "    # Initialize the Kaggle API\n",
    "    api = KaggleApi()\n",
    "    api.authenticate()  # Authenticate using your Kaggle credentials\n",
    "\n",
    "    # Download the dataset\n",
    "    print(f\"Downloading {dataset_name}...\")\n",
    "    api.dataset_download_files(dataset_name, path=download_path, unzip=True)\n",
    "\n",
    "    print(\"Download complete.\")\n",
    "else:\n",
    "    print(\"Dataset already exists, download skipped.\")\n",
    "\n",
    "# Load CSV into a pandas dataframe\n",
    "shared_file_path = './kaggle_datasets/car_prices.csv'\n",
    "# line 408,163 - \"Model\" field contains a comma (SE PZEV w/Connectivity, Navigation) - specify quotechar='\"'\n",
    "# This tells Pandas to treat anything inside double quotes as a single field, even if it contains commas.\n",
    "#      solution provided by ChatGPT\n",
    "df = pd.read_csv(shared_file_path, quotechar='\"', on_bad_lines='skip')"
   ]
  },
  {
   "cell_type": "code",
   "execution_count": 365,
   "metadata": {},
   "outputs": [],
   "source": [
    "# Load datasets\n",
    "msrp = pd.read_csv('MSRP.csv')\n",
    "\n",
    "# Standardize column names and values\n",
    "msrp.rename(columns={\n",
    "    'Make': 'make',\n",
    "    \"Model\": \"model\",\n",
    "    \"Year\": \"year\",\n",
    "    \"Transmission Type\": \"transmission\"\n",
    "}, inplace=True)\n",
    "\n",
    "msrp['transmission'] = msrp['transmission'].str.lower()\n",
    "\n",
    "# Create matching keys\n",
    "df['match_key'] = (\n",
    "    df['year'].astype(str).str.lower() + '_' + \n",
    "    df['make'].str.lower() + '_' + \n",
    "    df['model'].str.lower() + '_' + \n",
    "    df['transmission'].str.lower()\n",
    ")\n",
    "\n",
    "msrp['match_key'] = (\n",
    "    msrp['year'].astype(str).str.lower() + '_' + \n",
    "    msrp['make'].str.lower() + '_' + \n",
    "    msrp['model'].str.lower() + '_' + \n",
    "    msrp['transmission'].str.lower()\n",
    ")\n",
    "\n",
    "# Sort by MSRP (ascending) and keep first (min) for each match_key\n",
    "msrp_min_row = msrp.sort_values('MSRP').drop_duplicates('match_key', keep='first')\n",
    "\n",
    "# Merge with original car data (keeping all car rows but adding MSRP where matched)\n",
    "car_with_msrp = df.merge(\n",
    "    msrp_min_row[['match_key', 'MSRP']],  # Only keep needed columns\n",
    "    on='match_key',\n",
    "    how='left'\n",
    ")\n",
    "\n",
    "# Drop the temporary key column\n",
    "car_with_msrp = car_with_msrp.drop(columns=['match_key'])\n",
    "\n",
    "# Save the merged DataFrame to a new CSV file\n",
    "car_with_msrp.to_csv('car_prices_with_msrp.csv', index=False)"
   ]
  },
  {
   "cell_type": "markdown",
   "metadata": {},
   "source": [
    "# Data Cleaning\n",
    "__Done__\n",
    "1) Remove any row with missing data with df.dropna()\n",
    "2) One-Hot encode ['transmission'] to ['automatic_trans'] 0 /1 (double check unique vals)\n",
    "3) Simplify ['body'] (collapse all 85 body types to 9 types)\n",
    "4) Convert ['saledate']\n",
    "5) Age of car (from ['saledate'])\n",
    "6) Drop negative age cars\n"
   ]
  },
  {
   "cell_type": "code",
   "execution_count": 366,
   "metadata": {},
   "outputs": [],
   "source": [
    "# now we can use the car_prices_with_msrp DataFrame\n",
    "df = pd.read_csv('car_prices_with_msrp.csv', low_memory=False)\n",
    "# Remove 'Unamed: 16' column\n",
    "df.drop('Unnamed: 16', axis=1, inplace=True)"
   ]
  },
  {
   "cell_type": "markdown",
   "metadata": {},
   "source": [
    "1 - Remove rows that have missing values\n"
   ]
  },
  {
   "cell_type": "code",
   "execution_count": 367,
   "metadata": {},
   "outputs": [],
   "source": [
    "df.dropna(inplace=True)"
   ]
  },
  {
   "cell_type": "markdown",
   "metadata": {},
   "source": [
    "2 - One-hot encode the 'transmission' column\n"
   ]
  },
  {
   "cell_type": "code",
   "execution_count": 368,
   "metadata": {},
   "outputs": [
    {
     "name": "stdout",
     "output_type": "stream",
     "text": [
      "['automatic' 'manual']\n"
     ]
    }
   ],
   "source": [
    "print(df['transmission'].unique())\n",
    "df['auto_transmission'] = np.where(df['transmission'].str.contains('automatic', case=False), 1, 0)"
   ]
  },
  {
   "cell_type": "markdown",
   "metadata": {},
   "source": [
    "3 - 'One-hot encode' the 'body' column (count 85 unique values --> reduce to 8)\n"
   ]
  },
  {
   "cell_type": "code",
   "execution_count": 369,
   "metadata": {},
   "outputs": [],
   "source": [
    "# ['suv' 'sedan' 'convertible' 'coupe' 'wagon' 'hatchback' 'truck' 'minivan' 'van']\n",
    "df['body_type'] = np.nan\n",
    "df['body_type'] = np.where(df['body'].str.contains('minivan', case=False), 'minivan', df['body_type'])\n",
    "df['body_type'] = np.where(df['body'].str.contains('sedan', case=False), 'sedan', df['body'])\n",
    "df['body_type'] = np.where(df['body'].str.contains('wagon', case=False), 'wagon', df['body_type'])\n",
    "df['body_type'] = np.where(df['body'].str.contains('coupe', case=False), 'coupe', df['body_type'])\n",
    "df['body_type'] = np.where(df['body'].str.contains('koup', case=False), 'coupe', df['body_type'])\n",
    "df['body_type'] = np.where(df['body'].str.contains('convertible', case=False), 'convertible', df['body_type'])\n",
    "df['body_type'] = np.where(df['body'].str.contains('hatchback', case=False), 'hatchback', df['body_type'])\n",
    "df['body_type'] = np.where(df['body'].str.contains(r'\\bvan\\b', case=False), 'van', df['body_type'])\n",
    "df['body_type'] = np.where(df['body'].str.contains('truck', case=False), 'truck', df['body_type'])\n",
    "df['body_type'] = np.where(df['body'].str.contains('cab', case=False), 'truck', df['body_type'])\n",
    "df['body_type'] = np.where(df['body'].str.contains('crew', case=False), 'truck', df['body_type'])\n",
    "df['body_type'] = np.where(df['body'].str.contains('suv', case=False), 'suv', df['body_type'])\n",
    "df['body_type'] = np.where(df['body'].str.contains('Minivan', case=False), 'minivan', df['body_type'])\n",
    "\n",
    "# Numerical mapping for body types\n",
    "size_mapping = {\n",
    "    'convertible': 0,\n",
    "    'coupe': 1,\n",
    "    'hatchback': 2,\n",
    "    'sedan': 3,\n",
    "    'wagon': 4,\n",
    "    'suv': 5,\n",
    "    'minivan': 6,\n",
    "    'truck': 7,\n",
    "    'van': 8\n",
    "}\n",
    "\n",
    "df['body_size'] = df['body_type'].map(size_mapping)"
   ]
  },
  {
   "cell_type": "markdown",
   "metadata": {},
   "source": [
    "4 - Converting 'saledate' to datetime (solution provided by ChatGPT)"
   ]
  },
  {
   "cell_type": "code",
   "execution_count": 370,
   "metadata": {},
   "outputs": [],
   "source": [
    "# Handle invalid or unexpected values in the 'saledate' column\n",
    "# Extract just the date part (e.g., \"Dec 16 2014\") before conversion\n",
    "df['saledate'] = pd.to_datetime(\n",
    "    df['saledate'].str.extract(r'(\\w{3} \\d{2} \\d{4})')[0], \n",
    "    format='%b %d %Y', \n",
    "    errors='coerce'\n",
    ")"
   ]
  },
  {
   "cell_type": "markdown",
   "metadata": {},
   "source": [
    "5 - Ensure 'saledate' is in datetime format and create a new column 'car_age'"
   ]
  },
  {
   "cell_type": "code",
   "execution_count": 371,
   "metadata": {},
   "outputs": [],
   "source": [
    "df['car_age'] = np.where(\n",
    "    df['saledate'].notna(),\n",
    "    df['saledate'].dt.year - df['year'],\n",
    "    np.nan\n",
    ")"
   ]
  },
  {
   "cell_type": "markdown",
   "metadata": {},
   "source": [
    "6 - Some car ages are negative, which is not possible, because a 2015 model year can exist in 2014 and subsequently be sold"
   ]
  },
  {
   "cell_type": "code",
   "execution_count": 372,
   "metadata": {},
   "outputs": [
    {
     "name": "stdout",
     "output_type": "stream",
     "text": [
      "Number of negative car ages:  135\n"
     ]
    }
   ],
   "source": [
    "# For rows with values less than 0, drop rows\n",
    "print(\"Number of negative car ages: \", df[df['car_age'] < 0].shape[0])\n",
    "df.drop(df[df['car_age'] < 0].index, inplace=True)\n",
    "# Drop old columns 'transmission' & 'body'\n",
    "df.drop(['transmission', 'body'], axis=1, inplace=True)"
   ]
  },
  {
   "cell_type": "code",
   "execution_count": 373,
   "metadata": {},
   "outputs": [
    {
     "data": {
      "text/html": [
       "<div>\n",
       "<style scoped>\n",
       "    .dataframe tbody tr th:only-of-type {\n",
       "        vertical-align: middle;\n",
       "    }\n",
       "\n",
       "    .dataframe tbody tr th {\n",
       "        vertical-align: top;\n",
       "    }\n",
       "\n",
       "    .dataframe thead th {\n",
       "        text-align: right;\n",
       "    }\n",
       "</style>\n",
       "<table border=\"1\" class=\"dataframe\">\n",
       "  <thead>\n",
       "    <tr style=\"text-align: right;\">\n",
       "      <th></th>\n",
       "      <th>year</th>\n",
       "      <th>make</th>\n",
       "      <th>model</th>\n",
       "      <th>trim</th>\n",
       "      <th>vin</th>\n",
       "      <th>state</th>\n",
       "      <th>condition</th>\n",
       "      <th>odometer</th>\n",
       "      <th>color</th>\n",
       "      <th>interior</th>\n",
       "      <th>seller</th>\n",
       "      <th>mmr</th>\n",
       "      <th>sellingprice</th>\n",
       "      <th>saledate</th>\n",
       "      <th>MSRP</th>\n",
       "      <th>auto_transmission</th>\n",
       "      <th>body_type</th>\n",
       "      <th>body_size</th>\n",
       "      <th>car_age</th>\n",
       "    </tr>\n",
       "  </thead>\n",
       "  <tbody>\n",
       "    <tr>\n",
       "      <th>3</th>\n",
       "      <td>2015</td>\n",
       "      <td>Volvo</td>\n",
       "      <td>S60</td>\n",
       "      <td>T5</td>\n",
       "      <td>yv1612tb4f1310987</td>\n",
       "      <td>ca</td>\n",
       "      <td>4.1</td>\n",
       "      <td>14282.0</td>\n",
       "      <td>white</td>\n",
       "      <td>black</td>\n",
       "      <td>volvo na rep/world omni</td>\n",
       "      <td>27500</td>\n",
       "      <td>27750</td>\n",
       "      <td>2015-01-29</td>\n",
       "      <td>33300.0</td>\n",
       "      <td>1</td>\n",
       "      <td>sedan</td>\n",
       "      <td>3</td>\n",
       "      <td>0.0</td>\n",
       "    </tr>\n",
       "    <tr>\n",
       "      <th>12</th>\n",
       "      <td>2015</td>\n",
       "      <td>Ford</td>\n",
       "      <td>Fusion</td>\n",
       "      <td>SE</td>\n",
       "      <td>3fa6p0hdxfr145753</td>\n",
       "      <td>ca</td>\n",
       "      <td>2.0</td>\n",
       "      <td>5559.0</td>\n",
       "      <td>white</td>\n",
       "      <td>beige</td>\n",
       "      <td>enterprise vehicle exchange / tra / rental / t...</td>\n",
       "      <td>15350</td>\n",
       "      <td>12000</td>\n",
       "      <td>2015-01-13</td>\n",
       "      <td>22500.0</td>\n",
       "      <td>1</td>\n",
       "      <td>sedan</td>\n",
       "      <td>3</td>\n",
       "      <td>0.0</td>\n",
       "    </tr>\n",
       "    <tr>\n",
       "      <th>20</th>\n",
       "      <td>2015</td>\n",
       "      <td>Chevrolet</td>\n",
       "      <td>Impala</td>\n",
       "      <td>LTZ</td>\n",
       "      <td>2g1165s30f9103921</td>\n",
       "      <td>ca</td>\n",
       "      <td>1.9</td>\n",
       "      <td>14538.0</td>\n",
       "      <td>silver</td>\n",
       "      <td>black</td>\n",
       "      <td>enterprise vehicle exchange / tra / rental / t...</td>\n",
       "      <td>24300</td>\n",
       "      <td>7200</td>\n",
       "      <td>2015-07-07</td>\n",
       "      <td>27060.0</td>\n",
       "      <td>1</td>\n",
       "      <td>sedan</td>\n",
       "      <td>3</td>\n",
       "      <td>0.0</td>\n",
       "    </tr>\n",
       "    <tr>\n",
       "      <th>26</th>\n",
       "      <td>2015</td>\n",
       "      <td>Volvo</td>\n",
       "      <td>XC70</td>\n",
       "      <td>T6</td>\n",
       "      <td>yv4902nb3f1198103</td>\n",
       "      <td>ca</td>\n",
       "      <td>4.2</td>\n",
       "      <td>16506.0</td>\n",
       "      <td>brown</td>\n",
       "      <td>brown</td>\n",
       "      <td>volvo na rep/world omni</td>\n",
       "      <td>32100</td>\n",
       "      <td>32500</td>\n",
       "      <td>2015-02-26</td>\n",
       "      <td>35400.0</td>\n",
       "      <td>1</td>\n",
       "      <td>wagon</td>\n",
       "      <td>4</td>\n",
       "      <td>0.0</td>\n",
       "    </tr>\n",
       "    <tr>\n",
       "      <th>27</th>\n",
       "      <td>2015</td>\n",
       "      <td>Volvo</td>\n",
       "      <td>XC70</td>\n",
       "      <td>T6</td>\n",
       "      <td>yv4902nb3f1196951</td>\n",
       "      <td>ca</td>\n",
       "      <td>4.8</td>\n",
       "      <td>12725.0</td>\n",
       "      <td>beige</td>\n",
       "      <td>beige</td>\n",
       "      <td>volvo na rep/world omni</td>\n",
       "      <td>32300</td>\n",
       "      <td>32500</td>\n",
       "      <td>2015-02-12</td>\n",
       "      <td>35400.0</td>\n",
       "      <td>1</td>\n",
       "      <td>wagon</td>\n",
       "      <td>4</td>\n",
       "      <td>0.0</td>\n",
       "    </tr>\n",
       "  </tbody>\n",
       "</table>\n",
       "</div>"
      ],
      "text/plain": [
       "    year       make   model trim                vin state condition  odometer  \\\n",
       "3   2015      Volvo     S60   T5  yv1612tb4f1310987    ca       4.1   14282.0   \n",
       "12  2015       Ford  Fusion   SE  3fa6p0hdxfr145753    ca       2.0    5559.0   \n",
       "20  2015  Chevrolet  Impala  LTZ  2g1165s30f9103921    ca       1.9   14538.0   \n",
       "26  2015      Volvo    XC70   T6  yv4902nb3f1198103    ca       4.2   16506.0   \n",
       "27  2015      Volvo    XC70   T6  yv4902nb3f1196951    ca       4.8   12725.0   \n",
       "\n",
       "     color interior                                             seller    mmr  \\\n",
       "3    white    black                            volvo na rep/world omni  27500   \n",
       "12   white    beige  enterprise vehicle exchange / tra / rental / t...  15350   \n",
       "20  silver    black  enterprise vehicle exchange / tra / rental / t...  24300   \n",
       "26   brown    brown                            volvo na rep/world omni  32100   \n",
       "27   beige    beige                            volvo na rep/world omni  32300   \n",
       "\n",
       "    sellingprice   saledate     MSRP  auto_transmission body_type  body_size  \\\n",
       "3          27750 2015-01-29  33300.0                  1     sedan          3   \n",
       "12         12000 2015-01-13  22500.0                  1     sedan          3   \n",
       "20          7200 2015-07-07  27060.0                  1     sedan          3   \n",
       "26         32500 2015-02-26  35400.0                  1     wagon          4   \n",
       "27         32500 2015-02-12  35400.0                  1     wagon          4   \n",
       "\n",
       "    car_age  \n",
       "3       0.0  \n",
       "12      0.0  \n",
       "20      0.0  \n",
       "26      0.0  \n",
       "27      0.0  "
      ]
     },
     "execution_count": 373,
     "metadata": {},
     "output_type": "execute_result"
    }
   ],
   "source": [
    "df.head()"
   ]
  },
  {
   "cell_type": "code",
   "execution_count": 374,
   "metadata": {},
   "outputs": [],
   "source": [
    "df.drop(['year', 'trim', 'vin', 'color', 'interior', 'saledate', 'body_type'], axis=1, inplace=True)"
   ]
  },
  {
   "cell_type": "markdown",
   "metadata": {},
   "source": [
    "# Data Vizualization\n",
    "Plot 'mmr' v. 'sellingprice'"
   ]
  },
  {
   "cell_type": "code",
   "execution_count": 375,
   "metadata": {},
   "outputs": [
    {
     "data": {
      "image/png": "[encoded data removed]",
      "text/plain": [
       "<Figure size 640x480 with 1 Axes>"
      ]
     },
     "metadata": {},
     "output_type": "display_data"
    }
   ],
   "source": [
    "import matplotlib.pyplot as plt\n",
    "import seaborn as sns\n",
    "# ensure mmr and sellingprice are numeric\n",
    "df['mmr'] = pd.to_numeric(df['mmr'], errors='coerce')\n",
    "df['sellingprice'] = pd.to_numeric(df['sellingprice'], errors='coerce')\n",
    "# Set the style of seaborn\n",
    "sns.set(style=\"whitegrid\")\n",
    "plt.scatter(df['mmr'], df['sellingprice'], alpha=0.2, s=5) # Create a scatter plot\n",
    "sns.regplot(x='mmr', y='sellingprice', data=df, scatter=False, color='red') # Linear fit line\n",
    "plt.title('MMR vs Selling Price')\n",
    "plt.xlabel('MMR')\n",
    "plt.ylabel('Selling Price')\n",
    "plt.show()"
   ]
  },
  {
   "cell_type": "markdown",
   "metadata": {},
   "source": [
    "# Using features to predict selling price\n",
    "List of numeric features:\n",
    "1. year\n",
    "2. condition\n",
    "3. odometer\n",
    "4. auto_transmission\n",
    "5. car_age\n",
    "6. MSRP"
   ]
  },
  {
   "cell_type": "code",
   "execution_count": 379,
   "metadata": {},
   "outputs": [],
   "source": [
    "df_predictor = df[['condition', 'odometer', 'auto_transmission', 'car_age', 'MSRP', 'body_size']]\n",
    "df_target = df['sellingprice']"
   ]
  },
  {
   "cell_type": "code",
   "execution_count": 380,
   "metadata": {},
   "outputs": [],
   "source": [
    "X = df_predictor\n",
    "y = df_target"
   ]
  },
  {
   "cell_type": "markdown",
   "metadata": {},
   "source": [
    "Split into training and testing set"
   ]
  },
  {
   "cell_type": "code",
   "execution_count": 381,
   "metadata": {},
   "outputs": [],
   "source": [
    "X_train, X_test, Y_train, Y_test = train_test_split(X, y, test_size=0.3, random_state=39)"
   ]
  },
  {
   "cell_type": "markdown",
   "metadata": {},
   "source": [
    "Train the Linear Regression model"
   ]
  },
  {
   "cell_type": "code",
   "execution_count": 382,
   "metadata": {},
   "outputs": [],
   "source": [
    "model = LinearRegression()"
   ]
  },
  {
   "cell_type": "code",
   "execution_count": 383,
   "metadata": {},
   "outputs": [
    {
     "data": {
      "text/html": [
       "<style>#sk-container-id-13 {\n",
       "  /* Definition of color scheme common for light and dark mode */\n",
       "  --sklearn-color-text: #000;\n",
       "  --sklearn-color-text-muted: #666;\n",
       "  --sklearn-color-line: gray;\n",
       "  /* Definition of color scheme for unfitted estimators */\n",
       "  --sklearn-color-unfitted-level-0: #fff5e6;\n",
       "  --sklearn-color-unfitted-level-1: #f6e4d2;\n",
       "  --sklearn-color-unfitted-level-2: #ffe0b3;\n",
       "  --sklearn-color-unfitted-level-3: chocolate;\n",
       "  /* Definition of color scheme for fitted estimators */\n",
       "  --sklearn-color-fitted-level-0: #f0f8ff;\n",
       "  --sklearn-color-fitted-level-1: #d4ebff;\n",
       "  --sklearn-color-fitted-level-2: #b3dbfd;\n",
       "  --sklearn-color-fitted-level-3: cornflowerblue;\n",
       "\n",
       "  /* Specific color for light theme */\n",
       "  --sklearn-color-text-on-default-background: var(--sg-text-color, var(--theme-code-foreground, var(--jp-content-font-color1, black)));\n",
       "  --sklearn-color-background: var(--sg-background-color, var(--theme-background, var(--jp-layout-color0, white)));\n",
       "  --sklearn-color-border-box: var(--sg-text-color, var(--theme-code-foreground, var(--jp-content-font-color1, black)));\n",
       "  --sklearn-color-icon: #696969;\n",
       "\n",
       "  @media (prefers-color-scheme: dark) {\n",
       "    /* Redefinition of color scheme for dark theme */\n",
       "    --sklearn-color-text-on-default-background: var(--sg-text-color, var(--theme-code-foreground, var(--jp-content-font-color1, white)));\n",
       "    --sklearn-color-background: var(--sg-background-color, var(--theme-background, var(--jp-layout-color0, #111)));\n",
       "    --sklearn-color-border-box: var(--sg-text-color, var(--theme-code-foreground, var(--jp-content-font-color1, white)));\n",
       "    --sklearn-color-icon: #878787;\n",
       "  }\n",
       "}\n",
       "\n",
       "#sk-container-id-13 {\n",
       "  color: var(--sklearn-color-text);\n",
       "}\n",
       "\n",
       "#sk-container-id-13 pre {\n",
       "  padding: 0;\n",
       "}\n",
       "\n",
       "#sk-container-id-13 input.sk-hidden--visually {\n",
       "  border: 0;\n",
       "  clip: rect(1px 1px 1px 1px);\n",
       "  clip: rect(1px, 1px, 1px, 1px);\n",
       "  height: 1px;\n",
       "  margin: -1px;\n",
       "  overflow: hidden;\n",
       "  padding: 0;\n",
       "  position: absolute;\n",
       "  width: 1px;\n",
       "}\n",
       "\n",
       "#sk-container-id-13 div.sk-dashed-wrapped {\n",
       "  border: 1px dashed var(--sklearn-color-line);\n",
       "  margin: 0 0.4em 0.5em 0.4em;\n",
       "  box-sizing: border-box;\n",
       "  padding-bottom: 0.4em;\n",
       "  background-color: var(--sklearn-color-background);\n",
       "}\n",
       "\n",
       "#sk-container-id-13 div.sk-container {\n",
       "  /* jupyter's `normalize.less` sets `[hidden] { display: none; }`\n",
       "     but bootstrap.min.css set `[hidden] { display: none !important; }`\n",
       "     so we also need the `!important` here to be able to override the\n",
       "     default hidden behavior on the sphinx rendered scikit-learn.org.\n",
       "     See: https://github.com/scikit-learn/scikit-learn/issues/21755 */\n",
       "  display: inline-block !important;\n",
       "  position: relative;\n",
       "}\n",
       "\n",
       "#sk-container-id-13 div.sk-text-repr-fallback {\n",
       "  display: none;\n",
       "}\n",
       "\n",
       "div.sk-parallel-item,\n",
       "div.sk-serial,\n",
       "div.sk-item {\n",
       "  /* draw centered vertical line to link estimators */\n",
       "  background-image: linear-gradient(var(--sklearn-color-text-on-default-background), var(--sklearn-color-text-on-default-background));\n",
       "  background-size: 2px 100%;\n",
       "  background-repeat: no-repeat;\n",
       "  background-position: center center;\n",
       "}\n",
       "\n",
       "/* Parallel-specific style estimator block */\n",
       "\n",
       "#sk-container-id-13 div.sk-parallel-item::after {\n",
       "  content: \"\";\n",
       "  width: 100%;\n",
       "  border-bottom: 2px solid var(--sklearn-color-text-on-default-background);\n",
       "  flex-grow: 1;\n",
       "}\n",
       "\n",
       "#sk-container-id-13 div.sk-parallel {\n",
       "  display: flex;\n",
       "  align-items: stretch;\n",
       "  justify-content: center;\n",
       "  background-color: var(--sklearn-color-background);\n",
       "  position: relative;\n",
       "}\n",
       "\n",
       "#sk-container-id-13 div.sk-parallel-item {\n",
       "  display: flex;\n",
       "  flex-direction: column;\n",
       "}\n",
       "\n",
       "#sk-container-id-13 div.sk-parallel-item:first-child::after {\n",
       "  align-self: flex-end;\n",
       "  width: 50%;\n",
       "}\n",
       "\n",
       "#sk-container-id-13 div.sk-parallel-item:last-child::after {\n",
       "  align-self: flex-start;\n",
       "  width: 50%;\n",
       "}\n",
       "\n",
       "#sk-container-id-13 div.sk-parallel-item:only-child::after {\n",
       "  width: 0;\n",
       "}\n",
       "\n",
       "/* Serial-specific style estimator block */\n",
       "\n",
       "#sk-container-id-13 div.sk-serial {\n",
       "  display: flex;\n",
       "  flex-direction: column;\n",
       "  align-items: center;\n",
       "  background-color: var(--sklearn-color-background);\n",
       "  padding-right: 1em;\n",
       "  padding-left: 1em;\n",
       "}\n",
       "\n",
       "\n",
       "/* Toggleable style: style used for estimator/Pipeline/ColumnTransformer box that is\n",
       "clickable and can be expanded/collapsed.\n",
       "- Pipeline and ColumnTransformer use this feature and define the default style\n",
       "- Estimators will overwrite some part of the style using the `sk-estimator` class\n",
       "*/\n",
       "\n",
       "/* Pipeline and ColumnTransformer style (default) */\n",
       "\n",
       "#sk-container-id-13 div.sk-toggleable {\n",
       "  /* Default theme specific background. It is overwritten whether we have a\n",
       "  specific estimator or a Pipeline/ColumnTransformer */\n",
       "  background-color: var(--sklearn-color-background);\n",
       "}\n",
       "\n",
       "/* Toggleable label */\n",
       "#sk-container-id-13 label.sk-toggleable__label {\n",
       "  cursor: pointer;\n",
       "  display: flex;\n",
       "  width: 100%;\n",
       "  margin-bottom: 0;\n",
       "  padding: 0.5em;\n",
       "  box-sizing: border-box;\n",
       "  text-align: center;\n",
       "  align-items: start;\n",
       "  justify-content: space-between;\n",
       "  gap: 0.5em;\n",
       "}\n",
       "\n",
       "#sk-container-id-13 label.sk-toggleable__label .caption {\n",
       "  font-size: 0.6rem;\n",
       "  font-weight: lighter;\n",
       "  color: var(--sklearn-color-text-muted);\n",
       "}\n",
       "\n",
       "#sk-container-id-13 label.sk-toggleable__label-arrow:before {\n",
       "  /* Arrow on the left of the label */\n",
       "  content: \"▸\";\n",
       "  float: left;\n",
       "  margin-right: 0.25em;\n",
       "  color: var(--sklearn-color-icon);\n",
       "}\n",
       "\n",
       "#sk-container-id-13 label.sk-toggleable__label-arrow:hover:before {\n",
       "  color: var(--sklearn-color-text);\n",
       "}\n",
       "\n",
       "/* Toggleable content - dropdown */\n",
       "\n",
       "#sk-container-id-13 div.sk-toggleable__content {\n",
       "  max-height: 0;\n",
       "  max-width: 0;\n",
       "  overflow: hidden;\n",
       "  text-align: left;\n",
       "  /* unfitted */\n",
       "  background-color: var(--sklearn-color-unfitted-level-0);\n",
       "}\n",
       "\n",
       "#sk-container-id-13 div.sk-toggleable__content.fitted {\n",
       "  /* fitted */\n",
       "  background-color: var(--sklearn-color-fitted-level-0);\n",
       "}\n",
       "\n",
       "#sk-container-id-13 div.sk-toggleable__content pre {\n",
       "  margin: 0.2em;\n",
       "  border-radius: 0.25em;\n",
       "  color: var(--sklearn-color-text);\n",
       "  /* unfitted */\n",
       "  background-color: var(--sklearn-color-unfitted-level-0);\n",
       "}\n",
       "\n",
       "#sk-container-id-13 div.sk-toggleable__content.fitted pre {\n",
       "  /* unfitted */\n",
       "  background-color: var(--sklearn-color-fitted-level-0);\n",
       "}\n",
       "\n",
       "#sk-container-id-13 input.sk-toggleable__control:checked~div.sk-toggleable__content {\n",
       "  /* Expand drop-down */\n",
       "  max-height: 200px;\n",
       "  max-width: 100%;\n",
       "  overflow: auto;\n",
       "}\n",
       "\n",
       "#sk-container-id-13 input.sk-toggleable__control:checked~label.sk-toggleable__label-arrow:before {\n",
       "  content: \"▾\";\n",
       "}\n",
       "\n",
       "/* Pipeline/ColumnTransformer-specific style */\n",
       "\n",
       "#sk-container-id-13 div.sk-label input.sk-toggleable__control:checked~label.sk-toggleable__label {\n",
       "  color: var(--sklearn-color-text);\n",
       "  background-color: var(--sklearn-color-unfitted-level-2);\n",
       "}\n",
       "\n",
       "#sk-container-id-13 div.sk-label.fitted input.sk-toggleable__control:checked~label.sk-toggleable__label {\n",
       "  background-color: var(--sklearn-color-fitted-level-2);\n",
       "}\n",
       "\n",
       "/* Estimator-specific style */\n",
       "\n",
       "/* Colorize estimator box */\n",
       "#sk-container-id-13 div.sk-estimator input.sk-toggleable__control:checked~label.sk-toggleable__label {\n",
       "  /* unfitted */\n",
       "  background-color: var(--sklearn-color-unfitted-level-2);\n",
       "}\n",
       "\n",
       "#sk-container-id-13 div.sk-estimator.fitted input.sk-toggleable__control:checked~label.sk-toggleable__label {\n",
       "  /* fitted */\n",
       "  background-color: var(--sklearn-color-fitted-level-2);\n",
       "}\n",
       "\n",
       "#sk-container-id-13 div.sk-label label.sk-toggleable__label,\n",
       "#sk-container-id-13 div.sk-label label {\n",
       "  /* The background is the default theme color */\n",
       "  color: var(--sklearn-color-text-on-default-background);\n",
       "}\n",
       "\n",
       "/* On hover, darken the color of the background */\n",
       "#sk-container-id-13 div.sk-label:hover label.sk-toggleable__label {\n",
       "  color: var(--sklearn-color-text);\n",
       "  background-color: var(--sklearn-color-unfitted-level-2);\n",
       "}\n",
       "\n",
       "/* Label box, darken color on hover, fitted */\n",
       "#sk-container-id-13 div.sk-label.fitted:hover label.sk-toggleable__label.fitted {\n",
       "  color: var(--sklearn-color-text);\n",
       "  background-color: var(--sklearn-color-fitted-level-2);\n",
       "}\n",
       "\n",
       "/* Estimator label */\n",
       "\n",
       "#sk-container-id-13 div.sk-label label {\n",
       "  font-family: monospace;\n",
       "  font-weight: bold;\n",
       "  display: inline-block;\n",
       "  line-height: 1.2em;\n",
       "}\n",
       "\n",
       "#sk-container-id-13 div.sk-label-container {\n",
       "  text-align: center;\n",
       "}\n",
       "\n",
       "/* Estimator-specific */\n",
       "#sk-container-id-13 div.sk-estimator {\n",
       "  font-family: monospace;\n",
       "  border: 1px dotted var(--sklearn-color-border-box);\n",
       "  border-radius: 0.25em;\n",
       "  box-sizing: border-box;\n",
       "  margin-bottom: 0.5em;\n",
       "  /* unfitted */\n",
       "  background-color: var(--sklearn-color-unfitted-level-0);\n",
       "}\n",
       "\n",
       "#sk-container-id-13 div.sk-estimator.fitted {\n",
       "  /* fitted */\n",
       "  background-color: var(--sklearn-color-fitted-level-0);\n",
       "}\n",
       "\n",
       "/* on hover */\n",
       "#sk-container-id-13 div.sk-estimator:hover {\n",
       "  /* unfitted */\n",
       "  background-color: var(--sklearn-color-unfitted-level-2);\n",
       "}\n",
       "\n",
       "#sk-container-id-13 div.sk-estimator.fitted:hover {\n",
       "  /* fitted */\n",
       "  background-color: var(--sklearn-color-fitted-level-2);\n",
       "}\n",
       "\n",
       "/* Specification for estimator info (e.g. \"i\" and \"?\") */\n",
       "\n",
       "/* Common style for \"i\" and \"?\" */\n",
       "\n",
       ".sk-estimator-doc-link,\n",
       "a:link.sk-estimator-doc-link,\n",
       "a:visited.sk-estimator-doc-link {\n",
       "  float: right;\n",
       "  font-size: smaller;\n",
       "  line-height: 1em;\n",
       "  font-family: monospace;\n",
       "  background-color: var(--sklearn-color-background);\n",
       "  border-radius: 1em;\n",
       "  height: 1em;\n",
       "  width: 1em;\n",
       "  text-decoration: none !important;\n",
       "  margin-left: 0.5em;\n",
       "  text-align: center;\n",
       "  /* unfitted */\n",
       "  border: var(--sklearn-color-unfitted-level-1) 1pt solid;\n",
       "  color: var(--sklearn-color-unfitted-level-1);\n",
       "}\n",
       "\n",
       ".sk-estimator-doc-link.fitted,\n",
       "a:link.sk-estimator-doc-link.fitted,\n",
       "a:visited.sk-estimator-doc-link.fitted {\n",
       "  /* fitted */\n",
       "  border: var(--sklearn-color-fitted-level-1) 1pt solid;\n",
       "  color: var(--sklearn-color-fitted-level-1);\n",
       "}\n",
       "\n",
       "/* On hover */\n",
       "div.sk-estimator:hover .sk-estimator-doc-link:hover,\n",
       ".sk-estimator-doc-link:hover,\n",
       "div.sk-label-container:hover .sk-estimator-doc-link:hover,\n",
       ".sk-estimator-doc-link:hover {\n",
       "  /* unfitted */\n",
       "  background-color: var(--sklearn-color-unfitted-level-3);\n",
       "  color: var(--sklearn-color-background);\n",
       "  text-decoration: none;\n",
       "}\n",
       "\n",
       "div.sk-estimator.fitted:hover .sk-estimator-doc-link.fitted:hover,\n",
       ".sk-estimator-doc-link.fitted:hover,\n",
       "div.sk-label-container:hover .sk-estimator-doc-link.fitted:hover,\n",
       ".sk-estimator-doc-link.fitted:hover {\n",
       "  /* fitted */\n",
       "  background-color: var(--sklearn-color-fitted-level-3);\n",
       "  color: var(--sklearn-color-background);\n",
       "  text-decoration: none;\n",
       "}\n",
       "\n",
       "/* Span, style for the box shown on hovering the info icon */\n",
       ".sk-estimator-doc-link span {\n",
       "  display: none;\n",
       "  z-index: 9999;\n",
       "  position: relative;\n",
       "  font-weight: normal;\n",
       "  right: .2ex;\n",
       "  padding: .5ex;\n",
       "  margin: .5ex;\n",
       "  width: min-content;\n",
       "  min-width: 20ex;\n",
       "  max-width: 50ex;\n",
       "  color: var(--sklearn-color-text);\n",
       "  box-shadow: 2pt 2pt 4pt #999;\n",
       "  /* unfitted */\n",
       "  background: var(--sklearn-color-unfitted-level-0);\n",
       "  border: .5pt solid var(--sklearn-color-unfitted-level-3);\n",
       "}\n",
       "\n",
       ".sk-estimator-doc-link.fitted span {\n",
       "  /* fitted */\n",
       "  background: var(--sklearn-color-fitted-level-0);\n",
       "  border: var(--sklearn-color-fitted-level-3);\n",
       "}\n",
       "\n",
       ".sk-estimator-doc-link:hover span {\n",
       "  display: block;\n",
       "}\n",
       "\n",
       "/* \"?\"-specific style due to the `<a>` HTML tag */\n",
       "\n",
       "#sk-container-id-13 a.estimator_doc_link {\n",
       "  float: right;\n",
       "  font-size: 1rem;\n",
       "  line-height: 1em;\n",
       "  font-family: monospace;\n",
       "  background-color: var(--sklearn-color-background);\n",
       "  border-radius: 1rem;\n",
       "  height: 1rem;\n",
       "  width: 1rem;\n",
       "  text-decoration: none;\n",
       "  /* unfitted */\n",
       "  color: var(--sklearn-color-unfitted-level-1);\n",
       "  border: var(--sklearn-color-unfitted-level-1) 1pt solid;\n",
       "}\n",
       "\n",
       "#sk-container-id-13 a.estimator_doc_link.fitted {\n",
       "  /* fitted */\n",
       "  border: var(--sklearn-color-fitted-level-1) 1pt solid;\n",
       "  color: var(--sklearn-color-fitted-level-1);\n",
       "}\n",
       "\n",
       "/* On hover */\n",
       "#sk-container-id-13 a.estimator_doc_link:hover {\n",
       "  /* unfitted */\n",
       "  background-color: var(--sklearn-color-unfitted-level-3);\n",
       "  color: var(--sklearn-color-background);\n",
       "  text-decoration: none;\n",
       "}\n",
       "\n",
       "#sk-container-id-13 a.estimator_doc_link.fitted:hover {\n",
       "  /* fitted */\n",
       "  background-color: var(--sklearn-color-fitted-level-3);\n",
       "}\n",
       "</style><div id=\"sk-container-id-13\" class=\"sk-top-container\"><div class=\"sk-text-repr-fallback\"><pre>LinearRegression()</pre><b>In a Jupyter environment, please rerun this cell to show the HTML representation or trust the notebook. <br />On GitHub, the HTML representation is unable to render, please try loading this page with nbviewer.org.</b></div><div class=\"sk-container\" hidden><div class=\"sk-item\"><div class=\"sk-estimator fitted sk-toggleable\"><input class=\"sk-toggleable__control sk-hidden--visually\" id=\"sk-estimator-id-13\" type=\"checkbox\" checked><label for=\"sk-estimator-id-13\" class=\"sk-toggleable__label fitted sk-toggleable__label-arrow\"><div><div>LinearRegression</div></div><div><a class=\"sk-estimator-doc-link fitted\" rel=\"noreferrer\" target=\"_blank\" href=\"https://scikit-learn.org/1.6/modules/generated/sklearn.linear_model.LinearRegression.html\">?<span>Documentation for LinearRegression</span></a><span class=\"sk-estimator-doc-link fitted\">i<span>Fitted</span></span></div></label><div class=\"sk-toggleable__content fitted\"><pre>LinearRegression()</pre></div> </div></div></div></div>"
      ],
      "text/plain": [
       "LinearRegression()"
      ]
     },
     "execution_count": 383,
     "metadata": {},
     "output_type": "execute_result"
    }
   ],
   "source": [
    "model.fit(X_train, Y_train)"
   ]
  },
  {
   "cell_type": "markdown",
   "metadata": {},
   "source": [
    "Make predictions and evaluate the model"
   ]
  },
  {
   "cell_type": "code",
   "execution_count": 384,
   "metadata": {},
   "outputs": [
    {
     "name": "stdout",
     "output_type": "stream",
     "text": [
      "Mean Squared Error (MSE): 24589137.61933365\n",
      "R^2 (coefficient of determination): 0.779252170913362\n"
     ]
    }
   ],
   "source": [
    "y_pred = model.predict(X_test)\n",
    "mse = mean_squared_error(Y_test, y_pred)\n",
    "print(f\"Mean Squared Error (MSE): {mse}\")\n",
    "\n",
    "r2 = r2_score(Y_test, y_pred)\n",
    "print(f\"R^2 (coefficient of determination): {r2}\")"
   ]
  },
  {
   "cell_type": "markdown",
   "metadata": {},
   "source": [
    "Plot predictions vs actual selling"
   ]
  },
  {
   "cell_type": "code",
   "execution_count": 385,
   "metadata": {},
   "outputs": [
    {
     "data": {
      "image/png": "[encoded data removed]",
      "text/plain": [
       "<Figure size 1000x600 with 1 Axes>"
      ]
     },
     "metadata": {},
     "output_type": "display_data"
    }
   ],
   "source": [
    "plt.figure(figsize=(10,6))\n",
    "plt.scatter(Y_test, y_pred, alpha=0.5, color='blue') \n",
    "plt.plot([min(Y_test), max(Y_test)], [min(Y_test), max(Y_test)], color='red', linewidth=1.5) # Perfect prediction line\n",
    "plt.xlabel('Actual Selling Price') \n",
    "plt.ylabel('Predicted Selling Price')\n",
    "plt.title('Actual vs Predicted Selling Price')\n",
    "plt.show()"
   ]
  },
  {
   "cell_type": "markdown",
   "metadata": {},
   "source": [
    "## Exploratory Data Analysis"
   ]
  },
  {
   "cell_type": "markdown",
   "metadata": {},
   "source": [
    "First, let's learn more about our data now that is has been cleaned"
   ]
  },
  {
   "cell_type": "code",
   "execution_count": null,
   "metadata": {},
   "outputs": [
    {
     "data": {
      "text/plain": [
       "(54346, 19)"
      ]
     },
     "execution_count": 353,
     "metadata": {},
     "output_type": "execute_result"
    }
   ],
   "source": [
    "df.shape"
   ]
  },
  {
   "cell_type": "code",
   "execution_count": null,
   "metadata": {},
   "outputs": [
    {
     "data": {
      "text/html": [
       "<div>\n",
       "<style scoped>\n",
       "    .dataframe tbody tr th:only-of-type {\n",
       "        vertical-align: middle;\n",
       "    }\n",
       "\n",
       "    .dataframe tbody tr th {\n",
       "        vertical-align: top;\n",
       "    }\n",
       "\n",
       "    .dataframe thead th {\n",
       "        text-align: right;\n",
       "    }\n",
       "</style>\n",
       "<table border=\"1\" class=\"dataframe\">\n",
       "  <thead>\n",
       "    <tr style=\"text-align: right;\">\n",
       "      <th></th>\n",
       "      <th>year</th>\n",
       "      <th>make</th>\n",
       "      <th>model</th>\n",
       "      <th>trim</th>\n",
       "      <th>vin</th>\n",
       "      <th>state</th>\n",
       "      <th>condition</th>\n",
       "      <th>odometer</th>\n",
       "      <th>color</th>\n",
       "      <th>interior</th>\n",
       "      <th>seller</th>\n",
       "      <th>mmr</th>\n",
       "      <th>sellingprice</th>\n",
       "      <th>saledate</th>\n",
       "      <th>MSRP</th>\n",
       "      <th>auto_transmission</th>\n",
       "      <th>body_type</th>\n",
       "      <th>body_size</th>\n",
       "      <th>car_age</th>\n",
       "    </tr>\n",
       "  </thead>\n",
       "  <tbody>\n",
       "    <tr>\n",
       "      <th>3</th>\n",
       "      <td>2015</td>\n",
       "      <td>Volvo</td>\n",
       "      <td>S60</td>\n",
       "      <td>T5</td>\n",
       "      <td>yv1612tb4f1310987</td>\n",
       "      <td>ca</td>\n",
       "      <td>4.1</td>\n",
       "      <td>14282.0</td>\n",
       "      <td>white</td>\n",
       "      <td>black</td>\n",
       "      <td>volvo na rep/world omni</td>\n",
       "      <td>27500</td>\n",
       "      <td>27750</td>\n",
       "      <td>2015-01-29</td>\n",
       "      <td>33300.0</td>\n",
       "      <td>1</td>\n",
       "      <td>sedan</td>\n",
       "      <td>3</td>\n",
       "      <td>0.0</td>\n",
       "    </tr>\n",
       "    <tr>\n",
       "      <th>12</th>\n",
       "      <td>2015</td>\n",
       "      <td>Ford</td>\n",
       "      <td>Fusion</td>\n",
       "      <td>SE</td>\n",
       "      <td>3fa6p0hdxfr145753</td>\n",
       "      <td>ca</td>\n",
       "      <td>2.0</td>\n",
       "      <td>5559.0</td>\n",
       "      <td>white</td>\n",
       "      <td>beige</td>\n",
       "      <td>enterprise vehicle exchange / tra / rental / t...</td>\n",
       "      <td>15350</td>\n",
       "      <td>12000</td>\n",
       "      <td>2015-01-13</td>\n",
       "      <td>22500.0</td>\n",
       "      <td>1</td>\n",
       "      <td>sedan</td>\n",
       "      <td>3</td>\n",
       "      <td>0.0</td>\n",
       "    </tr>\n",
       "    <tr>\n",
       "      <th>20</th>\n",
       "      <td>2015</td>\n",
       "      <td>Chevrolet</td>\n",
       "      <td>Impala</td>\n",
       "      <td>LTZ</td>\n",
       "      <td>2g1165s30f9103921</td>\n",
       "      <td>ca</td>\n",
       "      <td>1.9</td>\n",
       "      <td>14538.0</td>\n",
       "      <td>silver</td>\n",
       "      <td>black</td>\n",
       "      <td>enterprise vehicle exchange / tra / rental / t...</td>\n",
       "      <td>24300</td>\n",
       "      <td>7200</td>\n",
       "      <td>2015-07-07</td>\n",
       "      <td>27060.0</td>\n",
       "      <td>1</td>\n",
       "      <td>sedan</td>\n",
       "      <td>3</td>\n",
       "      <td>0.0</td>\n",
       "    </tr>\n",
       "  </tbody>\n",
       "</table>\n",
       "</div>"
      ],
      "text/plain": [
       "    year       make   model trim                vin state condition  odometer  \\\n",
       "3   2015      Volvo     S60   T5  yv1612tb4f1310987    ca       4.1   14282.0   \n",
       "12  2015       Ford  Fusion   SE  3fa6p0hdxfr145753    ca       2.0    5559.0   \n",
       "20  2015  Chevrolet  Impala  LTZ  2g1165s30f9103921    ca       1.9   14538.0   \n",
       "\n",
       "     color interior                                             seller    mmr  \\\n",
       "3    white    black                            volvo na rep/world omni  27500   \n",
       "12   white    beige  enterprise vehicle exchange / tra / rental / t...  15350   \n",
       "20  silver    black  enterprise vehicle exchange / tra / rental / t...  24300   \n",
       "\n",
       "    sellingprice   saledate     MSRP  auto_transmission body_type  body_size  \\\n",
       "3          27750 2015-01-29  33300.0                  1     sedan          3   \n",
       "12         12000 2015-01-13  22500.0                  1     sedan          3   \n",
       "20          7200 2015-07-07  27060.0                  1     sedan          3   \n",
       "\n",
       "    car_age  \n",
       "3       0.0  \n",
       "12      0.0  \n",
       "20      0.0  "
      ]
     },
     "execution_count": 354,
     "metadata": {},
     "output_type": "execute_result"
    }
   ],
   "source": [
    "df.head(3)"
   ]
  },
  {
   "cell_type": "code",
   "execution_count": null,
   "metadata": {},
   "outputs": [
    {
     "name": "stdout",
     "output_type": "stream",
     "text": [
      "<class 'pandas.core.frame.DataFrame'>\n",
      "Index: 54346 entries, 3 to 558835\n",
      "Data columns (total 19 columns):\n",
      " #   Column             Non-Null Count  Dtype         \n",
      "---  ------             --------------  -----         \n",
      " 0   year               54346 non-null  int64         \n",
      " 1   make               54346 non-null  object        \n",
      " 2   model              54346 non-null  object        \n",
      " 3   trim               54346 non-null  object        \n",
      " 4   vin                54346 non-null  object        \n",
      " 5   state              54346 non-null  object        \n",
      " 6   condition          54346 non-null  object        \n",
      " 7   odometer           54346 non-null  float64       \n",
      " 8   color              54346 non-null  object        \n",
      " 9   interior           54346 non-null  object        \n",
      " 10  seller             54346 non-null  object        \n",
      " 11  mmr                54346 non-null  int64         \n",
      " 12  sellingprice       54346 non-null  int64         \n",
      " 13  saledate           54346 non-null  datetime64[ns]\n",
      " 14  MSRP               54346 non-null  float64       \n",
      " 15  auto_transmission  54346 non-null  int64         \n",
      " 16  body_type          54346 non-null  object        \n",
      " 17  body_size          54346 non-null  int64         \n",
      " 18  car_age            54346 non-null  float64       \n",
      "dtypes: datetime64[ns](1), float64(3), int64(5), object(10)\n",
      "memory usage: 8.3+ MB\n"
     ]
    }
   ],
   "source": [
    "df.info()"
   ]
  },
  {
   "cell_type": "code",
   "execution_count": null,
   "metadata": {},
   "outputs": [
    {
     "data": {
      "text/plain": [
       "39"
      ]
     },
     "execution_count": 356,
     "metadata": {},
     "output_type": "execute_result"
    }
   ],
   "source": [
    "len(df.make.unique())"
   ]
  },
  {
   "cell_type": "code",
   "execution_count": null,
   "metadata": {},
   "outputs": [
    {
     "data": {
      "text/plain": [
       "make\n",
       "Infiniti         11997\n",
       "Chevrolet         5712\n",
       "Dodge             5574\n",
       "Kia               4032\n",
       "Chrysler          4007\n",
       "Ford              3840\n",
       "Lexus             2242\n",
       "Pontiac           1918\n",
       "Hyundai           1363\n",
       "Nissan            1315\n",
       "GMC               1187\n",
       "Acura             1123\n",
       "Mazda              912\n",
       "Mercedes-Benz      807\n",
       "Toyota             806\n",
       "Buick              791\n",
       "Cadillac           773\n",
       "Lincoln            669\n",
       "Volkswagen         652\n",
       "Subaru             629\n",
       "Honda              627\n",
       "Suzuki             611\n",
       "BMW                594\n",
       "Volvo              574\n",
       "Mitsubishi         556\n",
       "Scion              296\n",
       "Oldsmobile         213\n",
       "Land Rover         194\n",
       "Audi               121\n",
       "HUMMER             105\n",
       "Saab                52\n",
       "Porsche             20\n",
       "Bentley             15\n",
       "Plymouth             9\n",
       "Rolls-Royce          4\n",
       "Aston Martin         2\n",
       "FIAT                 2\n",
       "Maserati             1\n",
       "Ferrari              1\n",
       "Name: count, dtype: int64"
      ]
     },
     "execution_count": 357,
     "metadata": {},
     "output_type": "execute_result"
    }
   ],
   "source": [
    "df.make.value_counts()"
   ]
  },
  {
   "cell_type": "markdown",
   "metadata": {},
   "source": [
    "MMR is provided by the dataset... it is the \"Mannheim Market Report\", an estimation of a car's selling value, which is updated nightly, and trained on millions of auction transactions. For our auction data, we can assume it is a sellers goal to surpass the MMR in the auction.\n",
    "\n",
    "Therefore, a relevant one-hot-encoding would be if the `sellingprice` > `mmr`. While it is good practice to not have redundant columns; ones which can be inferred from the data, a binary column `sold_above_mmr` would be highly useful for visualizations.\n",
    "\n",
    "We will create it below\n"
   ]
  },
  {
   "cell_type": "code",
   "execution_count": null,
   "metadata": {},
   "outputs": [
    {
     "data": {
      "text/html": [
       "<div>\n",
       "<style scoped>\n",
       "    .dataframe tbody tr th:only-of-type {\n",
       "        vertical-align: middle;\n",
       "    }\n",
       "\n",
       "    .dataframe tbody tr th {\n",
       "        vertical-align: top;\n",
       "    }\n",
       "\n",
       "    .dataframe thead th {\n",
       "        text-align: right;\n",
       "    }\n",
       "</style>\n",
       "<table border=\"1\" class=\"dataframe\">\n",
       "  <thead>\n",
       "    <tr style=\"text-align: right;\">\n",
       "      <th></th>\n",
       "      <th>sellingprice</th>\n",
       "      <th>mmr</th>\n",
       "      <th>sold_above_mmr</th>\n",
       "    </tr>\n",
       "  </thead>\n",
       "  <tbody>\n",
       "    <tr>\n",
       "      <th>3</th>\n",
       "      <td>27750</td>\n",
       "      <td>27500</td>\n",
       "      <td>1</td>\n",
       "    </tr>\n",
       "    <tr>\n",
       "      <th>12</th>\n",
       "      <td>12000</td>\n",
       "      <td>15350</td>\n",
       "      <td>0</td>\n",
       "    </tr>\n",
       "    <tr>\n",
       "      <th>20</th>\n",
       "      <td>7200</td>\n",
       "      <td>24300</td>\n",
       "      <td>0</td>\n",
       "    </tr>\n",
       "    <tr>\n",
       "      <th>26</th>\n",
       "      <td>32500</td>\n",
       "      <td>32100</td>\n",
       "      <td>1</td>\n",
       "    </tr>\n",
       "  </tbody>\n",
       "</table>\n",
       "</div>"
      ],
      "text/plain": [
       "    sellingprice    mmr  sold_above_mmr\n",
       "3          27750  27500               1\n",
       "12         12000  15350               0\n",
       "20          7200  24300               0\n",
       "26         32500  32100               1"
      ]
     },
     "execution_count": 358,
     "metadata": {},
     "output_type": "execute_result"
    }
   ],
   "source": [
    "df['sold_above_mmr'] = np.where(df['sellingprice'] > df['mmr'], 1, 0 )\n",
    "df[['sellingprice', 'mmr', 'sold_above_mmr']].head(4)"
   ]
  },
  {
   "cell_type": "markdown",
   "metadata": {},
   "source": [
    "Now let's visualize this data, there's alot of brands, so we'll only visualize the top 10 value counts"
   ]
  },
  {
   "cell_type": "code",
   "execution_count": null,
   "metadata": {},
   "outputs": [
    {
     "data": {
      "text/plain": [
       "<Axes: xlabel='make'>"
      ]
     },
     "execution_count": 359,
     "metadata": {},
     "output_type": "execute_result"
    },
    {
     "data": {
      "image/png": "[encoded data removed]",
      "text/plain": [
       "<Figure size 640x480 with 1 Axes>"
      ]
     },
     "metadata": {},
     "output_type": "display_data"
    }
   ],
   "source": [
    "top10 = df.make.value_counts().nlargest(10) # top 10\n",
    "top10.plot(kind=\"bar\")"
   ]
  }
 ],
 "metadata": {
  "kernelspec": {
   "display_name": "Python [conda env:base] *",
   "language": "python",
   "name": "conda-base-py"
  },
  "language_info": {
   "codemirror_mode": {
    "name": "ipython",
    "version": 3
   },
   "file_extension": ".py",
   "mimetype": "text/x-python",
   "name": "python",
   "nbconvert_exporter": "python",
   "pygments_lexer": "ipython3",
   "version": "3.12.7"
  }
 },
 "nbformat": 4,
 "nbformat_minor": 4
}
