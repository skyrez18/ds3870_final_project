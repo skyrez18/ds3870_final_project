{
 "cells": [
  {
   "metadata": {},
   "cell_type": "code",
   "outputs": [],
   "execution_count": null,
   "source": [
    "import pandas as pd\n",
    "car = pd.read_csv('kaggle_datasets/car_prices.csv')\n",
    "msrp = pd.read_csv('MSRP.csv')\n",
    "car['MSRP'] = pd.NA\n"
   ],
   "id": "6aaaf8fd9fc6ae86"
  },
  {
   "cell_type": "code",
   "id": "12942b9d-d5ed-4178-b688-170b2c147b4f",
   "metadata": {
    "ExecuteTime": {
     "end_time": "2025-04-18T17:02:57.232546Z",
     "start_time": "2025-04-18T17:02:57.229589Z"
    }
   },
   "source": [
    "msrp.rename(columns={'Make': 'make',\n",
    "                    \"Model\": \"model\",\n",
    "                    \"Year\": \"year\",\n",
    "                    \"Transmission Type\": \"transmission\"}, inplace=True)"
   ],
   "outputs": [],
   "execution_count": 2
  },
  {
   "cell_type": "code",
   "id": "00d3511d-5a37-49a6-9ef7-18d518b263d4",
   "metadata": {
    "ExecuteTime": {
     "end_time": "2025-04-18T17:14:10.208700Z",
     "start_time": "2025-04-18T17:14:09.799941Z"
    }
   },
   "source": [
    "msrp['transmission'] = msrp['transmission'].str.lower()\n",
    "# Step 1: Create a mapping key for both datasets\n",
    "car['match_key'] = car['year'].astype(str).str.lower() + '_' + car['make'].str.lower() + '_' + car['model'].str.lower() + '_' + car['transmission'].str.lower()\n",
    "msrp['match_key'] = msrp['year'].astype(str).str.lower() + '_' + msrp['make'].str.lower() + '_' + msrp['model'].str.lower() + '_' + msrp['transmission'].str.lower()\n",
    "\n",
    "# Step 2: Calculate average MSRP for each unique combination \n",
    "msrp_avg = msrp.groupby('match_key')['MSRP'].min().reset_index()\n",
    "msrp_avg.rename(columns={'MSRP': 'avg_msrp'}, inplace=True)\n",
    "\n",
    "# Step 3: Merge the average MSRP back to the car dataset\n",
    "car_with_msrp = car.merge(msrp_avg, on='match_key', how='left')\n",
    "car_with_msrp = car_with_msrp.drop_duplicates(subset=['match_key'], keep='first')\n",
    "# Step 4: Clean up (remove the temporary key column)\n",
    "car_with_msrp = car_with_msrp.drop(columns=[car_with_msrp.columns[16],car_with_msrp.columns[17]],axis=1)\n",
    "car_with_msrp.info()"
   ],
   "outputs": [
    {
     "name": "stdout",
     "output_type": "stream",
     "text": [
      "<class 'pandas.core.frame.DataFrame'>\n",
      "Index: 6907 entries, 0 to 557842\n",
      "Data columns (total 18 columns):\n",
      " #   Column        Non-Null Count  Dtype  \n",
      "---  ------        --------------  -----  \n",
      " 0   year          6907 non-null   int64  \n",
      " 1   make          6907 non-null   object \n",
      " 2   model         6907 non-null   object \n",
      " 3   trim          6838 non-null   object \n",
      " 4   body          6461 non-null   object \n",
      " 5   transmission  6906 non-null   object \n",
      " 6   vin           6907 non-null   object \n",
      " 7   state         6907 non-null   object \n",
      " 8   condition     5504 non-null   object \n",
      " 9   odometer      6896 non-null   float64\n",
      " 10  color         6892 non-null   object \n",
      " 11  interior      6892 non-null   object \n",
      " 12  seller        6907 non-null   object \n",
      " 13  mmr           6907 non-null   object \n",
      " 14  sellingprice  6907 non-null   int64  \n",
      " 15  saledate      6907 non-null   object \n",
      " 16  match_key     6906 non-null   object \n",
      " 17  avg_msrp      1157 non-null   float64\n",
      "dtypes: float64(2), int64(2), object(14)\n",
      "memory usage: 1.0+ MB\n"
     ]
    }
   ],
   "execution_count": 16
  },
  {
   "cell_type": "code",
   "id": "7d960fe0-4683-4f6e-ad4b-ffddb72d82bd",
   "metadata": {
    "ExecuteTime": {
     "end_time": "2025-04-18T17:14:18.744366Z",
     "start_time": "2025-04-18T17:14:18.711783Z"
    }
   },
   "source": [
    "car_with_msrp.head(100)\n",
    "print(car_with_msrp.avg_msrp.isnull().sum())\n",
    "# car_with_msrp.drop(car_with_msrp.columns[[16,17]],axis=1, inplace=True)\n",
    "# car_with_msrp.info()\n",
    "car_with_msrp.to_csv('car_with_msrp.csv', index=True)\n",
    "#car_with_msrp.to_csv('car_prices2.csv'()"
   ],
   "outputs": [
    {
     "name": "stdout",
     "output_type": "stream",
     "text": [
      "5750\n"
     ]
    }
   ],
   "execution_count": 18
  },
  {
   "cell_type": "code",
   "execution_count": null,
   "id": "0a47688b-ef3d-4ce4-9d0c-b1a80514f3d2",
   "metadata": {},
   "outputs": [],
   "source": []
  }
 ],
 "metadata": {
  "kernelspec": {
   "display_name": "Python [conda env:base] *",
   "language": "python",
   "name": "conda-base-py"
  },
  "language_info": {
   "codemirror_mode": {
    "name": "ipython",
    "version": 3
   },
   "file_extension": ".py",
   "mimetype": "text/x-python",
   "name": "python",
   "nbconvert_exporter": "python",
   "pygments_lexer": "ipython3",
   "version": "3.12.7"
  }
 },
 "nbformat": 4,
 "nbformat_minor": 5
}
