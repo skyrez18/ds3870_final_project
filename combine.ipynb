{
 "cells": [
  {
   "cell_type": "code",
   "id": "080c06e1-403e-45c4-8aee-9323bae942af",
   "metadata": {
    "ExecuteTime": {
     "end_time": "2025-04-11T14:46:59.177180Z",
     "start_time": "2025-04-11T14:46:58.601860Z"
    }
   },
   "source": [
    "import pandas as pd                                                  \n",
    "                                                                     \n",
    "car = pd.read_csv('kaggle_datasets/car_prices.csv')                  \n",
    "msrp = pd.read_csv('MSRP.csv')\n",
    "car['MSRP'] = pd.NA                                                  "
   ],
   "outputs": [
    {
     "name": "stderr",
     "output_type": "stream",
     "text": [
      "/var/folders/kt/8ctq9zmj7wvf5t0bwkg6sbjr0000gn/T/ipykernel_13006/1616986587.py:3: DtypeWarning: Columns (8,13,16) have mixed types. Specify dtype option on import or set low_memory=False.\n",
      "  car = pd.read_csv('kaggle_datasets/car_prices.csv')\n"
     ]
    }
   ],
   "execution_count": 36
  },
  {
   "cell_type": "code",
   "id": "12942b9d-d5ed-4178-b688-170b2c147b4f",
   "metadata": {
    "ExecuteTime": {
     "end_time": "2025-04-11T14:46:59.241235Z",
     "start_time": "2025-04-11T14:46:59.239342Z"
    }
   },
   "source": [
    "msrp.rename(columns={'Make': 'make',\n",
    "                    \"Model\": \"model\",\n",
    "                    \"Year\": \"year\",\n",
    "                    \"Transmission Type\": \"transmission\"}, inplace=True)"
   ],
   "outputs": [],
   "execution_count": 37
  },
  {
   "cell_type": "code",
   "id": "00d3511d-5a37-49a6-9ef7-18d518b263d4",
   "metadata": {
    "ExecuteTime": {
     "end_time": "2025-04-11T14:46:59.817543Z",
     "start_time": "2025-04-11T14:46:59.472014Z"
    }
   },
   "source": [
    "msrp['transmission'] = msrp['transmission'].str.lower()\n",
    "# Step 1: Create a mapping key for both datasets\n",
    "car['match_key'] = car['year'].astype(str) + '_' + car['make'] + '_' + car['model'] + '_' + car['transmission']\n",
    "msrp['match_key'] = msrp['year'].astype(str) + '_' + msrp['make'] + '_' + msrp['model'] + '_' + msrp['transmission']\n",
    "\n",
    "# Step 2: Calculate average MSRP for each unique combination \n",
    "msrp_avg = msrp.groupby('match_key')['MSRP'].mean().reset_index()\n",
    "msrp_avg.rename(columns={'MSRP': 'avg_msrp'}, inplace=True)\n",
    "\n",
    "# Step 3: Merge the average MSRP back to the car dataset\n",
    "car_with_msrp = car.merge(msrp_avg, on='match_key', how='left')\n",
    "\n",
    "# Step 4: Clean up (remove the temporary key column)\n",
    "car_with_msrp.drop('match_key', axis=1, inplace=True)"
   ],
   "outputs": [],
   "execution_count": 38
  },
  {
   "cell_type": "code",
   "id": "7d960fe0-4683-4f6e-ad4b-ffddb72d82bd",
   "metadata": {
    "ExecuteTime": {
     "end_time": "2025-04-11T14:48:00.277216Z",
     "start_time": "2025-04-11T14:47:59.082440Z"
    }
   },
   "source": [
    "car_with_msrp.head(100)\n",
    "car_with_msrp.avg_msrp.isnull().sum()\n",
    "# car_with_msrp.drop(car_with_msrp.columns[[16,17]],axis=1, inplace=True)\n",
    "# car_with_msrp.info()\n",
    "car_with_msrp.to_csv('car_with_msrp.csv', index=True)\n",
    "#car_with_msrp.to_csv('car_prices2.csv'()"
   ],
   "outputs": [],
   "execution_count": 41
  },
  {
   "cell_type": "code",
   "execution_count": null,
   "id": "0a47688b-ef3d-4ce4-9d0c-b1a80514f3d2",
   "metadata": {},
   "outputs": [],
   "source": []
  }
 ],
 "metadata": {
  "kernelspec": {
   "display_name": "Python [conda env:base] *",
   "language": "python",
   "name": "conda-base-py"
  },
  "language_info": {
   "codemirror_mode": {
    "name": "ipython",
    "version": 3
   },
   "file_extension": ".py",
   "mimetype": "text/x-python",
   "name": "python",
   "nbconvert_exporter": "python",
   "pygments_lexer": "ipython3",
   "version": "3.12.7"
  }
 },
 "nbformat": 4,
 "nbformat_minor": 5
}
